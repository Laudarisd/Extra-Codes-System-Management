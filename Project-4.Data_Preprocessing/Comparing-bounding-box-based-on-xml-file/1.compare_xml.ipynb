{
 "cells": [
  {
   "cell_type": "code",
   "execution_count": 4,
   "metadata": {},
   "outputs": [],
   "source": [
    "from xml.dom import minidom\n",
    "import os\n",
    "\n",
    "path_a = './xml/labels_1'\n",
    "path_b = './xml/labels_2'\n",
    "\n",
    "xml = '00005.xml'\n",
    "\n",
    "a = os.path.join(path_a, xml)\n",
    "b = os.path.join(path_b, xml)\n",
    "\n",
    "xml_a = minidom.parse(a)\n",
    "xml_b = minidom.parse(b)\n",
    "items_a = xml_a.getElementsByTagName('bndbox')\n",
    "items_b = xml_b.getElementsByTagName('bndbox')"
   ]
  },
  {
   "cell_type": "code",
   "execution_count": 6,
   "metadata": {},
   "outputs": [
    {
     "data": {
      "text/plain": [
       "[<DOM Element: bndbox at 0x7fb2e424f048>,\n",
       " <DOM Element: bndbox at 0x7fb2e424f638>,\n",
       " <DOM Element: bndbox at 0x7fb2e424fc28>]"
      ]
     },
     "execution_count": 6,
     "metadata": {},
     "output_type": "execute_result"
    }
   ],
   "source": [
    "items_a"
   ]
  },
  {
   "cell_type": "code",
   "execution_count": 139,
   "metadata": {},
   "outputs": [
    {
     "name": "stdout",
     "output_type": "stream",
     "text": [
      "a:  100 100 200 200\n",
      "b:  850 850 1000 1000\n",
      "a:  300 300 400 400\n",
      "b:  700 700 850 850\n",
      "a:  500 500 600 600\n",
      "b:  350 350 450 450\n",
      "a:  700 700 800 800\n",
      "b:  550 550 650 650\n",
      "a:  900 900 1000 1000\n",
      "b:  150 150 250 250\n"
     ]
    }
   ],
   "source": [
    "result_a = {}\n",
    "result_b = {}\n",
    "for i in range(len(items_a)):\n",
    "    xmin_a = int(items_a[i].childNodes[1].childNodes[0].nodeValue)\n",
    "    ymin_a = int(items_a[i].childNodes[3].childNodes[0].nodeValue)\n",
    "    xmax_a = int(items_a[i].childNodes[5].childNodes[0].nodeValue)\n",
    "    ymax_a = int(items_a[i].childNodes[7].childNodes[0].nodeValue)\n",
    "    print('a: ', xmin_a, ymin_a, xmax_a, ymax_a)\n",
    "    xmean_a = (xmin_a + xmax_a)/2\n",
    "    ymean_a = (ymin_a + ymax_a)/2\n",
    "    result_a[i] = [(xmean_a,ymean_a), xmin_a, ymin_a, xmax_a, ymax_a]\n",
    "    \n",
    "    xmin_b = int(items_b[i].childNodes[1].childNodes[0].nodeValue)\n",
    "    ymin_b = int(items_b[i].childNodes[3].childNodes[0].nodeValue)\n",
    "    xmax_b = int(items_b[i].childNodes[5].childNodes[0].nodeValue)\n",
    "    ymax_b = int(items_b[i].childNodes[7].childNodes[0].nodeValue)\n",
    "    print('b: ', xmin_b, ymin_b, xmax_b, ymax_b)\n",
    "    xmean_b = (xmin_b + xmax_b)/2\n",
    "    ymean_b = (ymin_b + ymax_b)/2\n",
    "    result_b[i] = [(xmean_b,ymean_b), xmin_b, ymin_b, xmax_b, ymax_b]"
   ]
  },
  {
   "cell_type": "code",
   "execution_count": 140,
   "metadata": {},
   "outputs": [
    {
     "data": {
      "text/plain": [
       "{0: [(150.0, 150.0), 100, 100, 200, 200],\n",
       " 1: [(350.0, 350.0), 300, 300, 400, 400],\n",
       " 2: [(550.0, 550.0), 500, 500, 600, 600],\n",
       " 3: [(750.0, 750.0), 700, 700, 800, 800],\n",
       " 4: [(950.0, 950.0), 900, 900, 1000, 1000]}"
      ]
     },
     "execution_count": 140,
     "metadata": {},
     "output_type": "execute_result"
    }
   ],
   "source": [
    "result_a"
   ]
  },
  {
   "cell_type": "code",
   "execution_count": 141,
   "metadata": {},
   "outputs": [
    {
     "data": {
      "text/plain": [
       "{0: [(925.0, 925.0), 850, 850, 1000, 1000],\n",
       " 1: [(775.0, 775.0), 700, 700, 850, 850],\n",
       " 2: [(400.0, 400.0), 350, 350, 450, 450],\n",
       " 3: [(600.0, 600.0), 550, 550, 650, 650],\n",
       " 4: [(200.0, 200.0), 150, 150, 250, 250]}"
      ]
     },
     "execution_count": 141,
     "metadata": {},
     "output_type": "execute_result"
    }
   ],
   "source": [
    "result_b # (0-4, 1-2, 2-3, 3-1, 4-0"
   ]
  },
  {
   "cell_type": "code",
   "execution_count": 143,
   "metadata": {},
   "outputs": [
    {
     "name": "stdout",
     "output_type": "stream",
     "text": [
      "a:  150.0 150.0\n",
      "b:  925.0 925.0\n",
      "a:  150.0 150.0\n",
      "b:  775.0 775.0\n",
      "a:  150.0 150.0\n",
      "b:  400.0 400.0\n",
      "a:  150.0 150.0\n",
      "b:  600.0 600.0\n",
      "a:  150.0 150.0\n",
      "b:  200.0 200.0\n",
      "[775.0, 625.0, 250.0, 450.0, 50.0]\n",
      "[775.0, 625.0, 250.0, 450.0, 50.0]\n",
      "0 4\n",
      "a:  350.0 350.0\n",
      "b:  200.0 200.0\n",
      "a:  350.0 350.0\n",
      "b:  775.0 775.0\n",
      "a:  350.0 350.0\n",
      "b:  400.0 400.0\n",
      "a:  350.0 350.0\n",
      "b:  600.0 600.0\n",
      "a:  350.0 350.0\n",
      "b:  925.0 925.0\n",
      "[150.0, 425.0, 50.0, 250.0, 575.0]\n",
      "[150.0, 425.0, 50.0, 250.0, 575.0]\n",
      "1 2\n",
      "a:  550.0 550.0\n",
      "b:  200.0 200.0\n",
      "a:  550.0 550.0\n",
      "b:  400.0 400.0\n",
      "a:  550.0 550.0\n",
      "b:  775.0 775.0\n",
      "a:  550.0 550.0\n",
      "b:  600.0 600.0\n",
      "a:  550.0 550.0\n",
      "b:  925.0 925.0\n",
      "[350.0, 150.0, 225.0, 50.0, 375.0]\n",
      "[350.0, 150.0, 225.0, 50.0, 375.0]\n",
      "2 3\n",
      "a:  750.0 750.0\n",
      "b:  200.0 200.0\n",
      "a:  750.0 750.0\n",
      "b:  400.0 400.0\n",
      "a:  750.0 750.0\n",
      "b:  600.0 600.0\n",
      "a:  750.0 750.0\n",
      "b:  775.0 775.0\n",
      "a:  750.0 750.0\n",
      "b:  925.0 925.0\n",
      "[550.0, 350.0, 150.0, 25.0, 175.0]\n",
      "[550.0, 350.0, 150.0, 25.0, 175.0]\n",
      "3 3\n",
      "a:  950.0 950.0\n",
      "b:  200.0 200.0\n",
      "a:  950.0 950.0\n",
      "b:  400.0 400.0\n",
      "a:  950.0 950.0\n",
      "b:  600.0 600.0\n",
      "a:  950.0 950.0\n",
      "b:  775.0 775.0\n",
      "a:  950.0 950.0\n",
      "b:  925.0 925.0\n",
      "[750.0, 550.0, 350.0, 175.0, 25.0]\n",
      "[750.0, 550.0, 350.0, 175.0, 25.0]\n",
      "4 4\n"
     ]
    }
   ],
   "source": [
    "# result_total = []\n",
    "for i in range(len(result_a)):\n",
    "    \n",
    "    # a[i]랑 비교\n",
    "    diff_x = []\n",
    "    diff_y = []\n",
    "    for j in range(len(result_b)):\n",
    "        print('a: ', result_a[i][0][0], result_a[i][0][1])\n",
    "        print('b: ', result_b[j][0][0], result_b[j][0][1])\n",
    "        diff_x.append(abs(result_a[i][0][0] - result_b[j][0][0]))\n",
    "        diff_y.append(abs(result_a[i][0][1] - result_b[j][0][1]))\n",
    "    \n",
    "    if min(diff_x) <= min(diff_y):\n",
    "        idx = diff_x.index(min(diff_x))\n",
    "    else:\n",
    "        idx = diff_y.index(min(diff_y))\n",
    "    print(diff_x)\n",
    "    print(diff_y)\n",
    "    print(i, idx)\n",
    "    \n",
    "    if idx != i:\n",
    "        result_b[i], result_b[idx] = result_b[idx], result_b[i]"
   ]
  },
  {
   "cell_type": "code",
   "execution_count": 144,
   "metadata": {},
   "outputs": [
    {
     "data": {
      "text/plain": [
       "{0: [(150.0, 150.0), 100, 100, 200, 200],\n",
       " 1: [(350.0, 350.0), 300, 300, 400, 400],\n",
       " 2: [(550.0, 550.0), 500, 500, 600, 600],\n",
       " 3: [(750.0, 750.0), 700, 700, 800, 800],\n",
       " 4: [(950.0, 950.0), 900, 900, 1000, 1000]}"
      ]
     },
     "execution_count": 144,
     "metadata": {},
     "output_type": "execute_result"
    }
   ],
   "source": [
    "result_a"
   ]
  },
  {
   "cell_type": "code",
   "execution_count": 145,
   "metadata": {},
   "outputs": [
    {
     "data": {
      "text/plain": [
       "{0: [(200.0, 200.0), 150, 150, 250, 250],\n",
       " 1: [(400.0, 400.0), 350, 350, 450, 450],\n",
       " 2: [(600.0, 600.0), 550, 550, 650, 650],\n",
       " 3: [(775.0, 775.0), 700, 700, 850, 850],\n",
       " 4: [(925.0, 925.0), 850, 850, 1000, 1000]}"
      ]
     },
     "execution_count": 145,
     "metadata": {},
     "output_type": "execute_result"
    }
   ],
   "source": [
    "result_b"
   ]
  },
  {
   "cell_type": "code",
   "execution_count": null,
   "metadata": {},
   "outputs": [],
   "source": []
  }
 ],
 "metadata": {
  "kernelspec": {
   "display_name": "Python 3",
   "language": "python",
   "name": "python3"
  },
  "language_info": {
   "codemirror_mode": {
    "name": "ipython",
    "version": 3
   },
   "file_extension": ".py",
   "mimetype": "text/x-python",
   "name": "python",
   "nbconvert_exporter": "python",
   "pygments_lexer": "ipython3",
   "version": "3.6.8"
  }
 },
 "nbformat": 4,
 "nbformat_minor": 2
}
