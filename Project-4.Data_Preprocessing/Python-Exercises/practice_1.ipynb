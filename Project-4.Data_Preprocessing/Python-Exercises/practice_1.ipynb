{
 "cells": [
  {
   "cell_type": "code",
   "execution_count": 5,
   "metadata": {},
   "outputs": [
    {
     "name": "stdout",
     "output_type": "stream",
     "text": [
      "1\n"
     ]
    }
   ],
   "source": [
    "def fib1(n:int) -> int:\n",
    "    if n < 2:\n",
    "        return n\n",
    "    return fib1(n-1)+fib1(n-2)\n",
    "\n",
    "if __name__ == \"__main__\":\n",
    "    print(fib1(2))\n"
   ]
  },
  {
   "cell_type": "code",
   "execution_count": 6,
   "metadata": {},
   "outputs": [
    {
     "name": "stdout",
     "output_type": "stream",
     "text": [
      "5\n",
      "12586269025\n"
     ]
    }
   ],
   "source": [
    "from functools import lru_cache\n",
    "@lru_cache(maxsize=None)\n",
    "def fib4(n: int) -> int: # same definition as fib2()\n",
    "    if n < 2: # base case\n",
    "        return n\n",
    "    return fib4(n - 2) + fib4(n - 1) # recursive case\n",
    "\n",
    "if __name__ == \"__main__\":\n",
    "    print(fib4(5))\n",
    "    \n",
    "    print(fib4(50))"
   ]
  },
  {
   "cell_type": "code",
   "execution_count": 9,
   "metadata": {},
   "outputs": [
    {
     "name": "stdout",
     "output_type": "stream",
     "text": [
      "[]\n",
      "[]\n",
      "[1, 2, 3]\n"
     ]
    }
   ],
   "source": [
    "from typing import TypeVar, Generic, List\n",
    "T = TypeVar('T')\n",
    "\n",
    "\n",
    "class Stack(Generic[T]):\n",
    "\n",
    "    def __init__(self) -> None:\n",
    "        self._container: List[T] = []\n",
    "\n",
    "    def push(self, item: T) -> None:\n",
    "        self._container.append(item)\n",
    "\n",
    "    def pop(self) -> T:\n",
    "        return self._container.pop()\n",
    "\n",
    "    def __repr__(self) -> str:\n",
    "        return repr(self._container)\n",
    "\n",
    "\n",
    "num_discs: int = 3\n",
    "tower_a: Stack[int] = Stack()\n",
    "tower_b: Stack[int] = Stack()\n",
    "tower_c: Stack[int] = Stack()\n",
    "for i in range(1, num_discs + 1):\n",
    "    tower_a.push(i)\n",
    "\n",
    "\n",
    "def hanoi(begin: Stack[int], end: Stack[int], temp: Stack[int], n: int) -> None:\n",
    "    if n == 1:\n",
    "        end.push(begin.pop())\n",
    "    else:\n",
    "        hanoi(begin, temp, end, n - 1)\n",
    "        hanoi(begin, end, temp, 1)\n",
    "        hanoi(temp, end, begin, n - 1)\n",
    "\n",
    "\n",
    "if __name__ == \"__main__\":\n",
    "    hanoi(tower_a, tower_c, tower_b, num_discs)\n",
    "    print(tower_a)\n",
    "    print(tower_b)\n",
    "    print(tower_c)\n",
    "    "
   ]
  },
  {
   "cell_type": "code",
   "execution_count": 35,
   "metadata": {},
   "outputs": [
    {
     "name": "stdout",
     "output_type": "stream",
     "text": [
      "Enter a phone number:\n",
      "Here are the potential mnemonics:\n",
      "\n"
     ]
    }
   ],
   "source": [
    "from typing import Dict, Tuple, Iterable, List\n",
    "from itertools import product\n",
    "\n",
    "phone_mapping: Dict[str, Tuple[str, ...]] = {\"1\": (\"1\",),\n",
    "                                             \"2\": (\"a\", \"b\", \"c\"),\n",
    "                                             \"3\": (\"d\", \"e\", \"f\"),\n",
    "                                             \"4\": (\"g\", \"h\", \"i\"),\n",
    "                                             \"5\": (\"j\", \"k\", \"l\"),\n",
    "                                             \"6\": (\"m\", \"n\", \"o\"),\n",
    "                                             \"7\": (\"p\", \"q\", \"r\", \"s\"),\n",
    "                                             \"8\": (\"t\", \"u\", \"v\"),\n",
    "                                             \"9\": (\"w\", \"x\", \"y\", \"z\"),\n",
    "                                             \"0\": (\"0\",)}\n",
    "\n",
    "\n",
    "def possible_mnemonics(phone_number: str) -> Iterable[Tuple[str, ...]]:\n",
    "    letter_tuples: List[Tuple[str, ...]] = []\n",
    "    for digit in phone_number:\n",
    "        letter_tuples.append(phone_mapping.get(digit, (digit,)))\n",
    "    return product(*letter_tuples)\n",
    "\n",
    "\n",
    "if __name__ == \"__main__\":\n",
    "    phone_number: str = input(\"Enter a phone number:\")\n",
    "    print(\"Here are the potential mnemonics:\")\n",
    "    for mnemonic in possible_mnemonics(phone_number):\n",
    "        print(\"\".join(mnemonic))"
   ]
  },
  {
   "cell_type": "markdown",
   "metadata": {},
   "source": [
    "# Tower of Hanoi"
   ]
  },
  {
   "cell_type": "code",
   "execution_count": 36,
   "metadata": {},
   "outputs": [
    {
     "name": "stdout",
     "output_type": "stream",
     "text": [
      "move disk from A to C\n",
      "move disk from A to B\n",
      "move disk from C to B\n",
      "move disk from A to C\n",
      "move disk from B to A\n",
      "move disk from B to C\n",
      "move disk from A to C\n",
      "None\n"
     ]
    }
   ],
   "source": [
    "disks = 3\n",
    "from_tower = 'A'\n",
    "to_tower = 'C'\n",
    "using_tower = 'B'\n",
    "\n",
    "def hanoi(n, from_tower,to_tower, using_tower):\n",
    "    if n > 0:\n",
    "        hanoi(n-1, from_tower, using_tower, to_tower)\n",
    "        print('move disk from',from_tower, 'to', to_tower)\n",
    "        hanoi(n-1, using_tower, to_tower, from_tower)\n",
    "        \n",
    "print(hanoi(disks, from_tower, to_tower, using_tower))\n",
    "        \n",
    "        \n",
    "    \n"
   ]
  },
  {
   "cell_type": "markdown",
   "metadata": {},
   "source": [
    "# Write a Python program to count and display the vowels of a given text."
   ]
  },
  {
   "cell_type": "code",
   "execution_count": 37,
   "metadata": {},
   "outputs": [
    {
     "name": "stdout",
     "output_type": "stream",
     "text": [
      "13\n",
      "['I', 'O', 'A', 'O', 'O', 'A', 'E', 'O', 'A', 'E', 'E', 'A', 'E']\n"
     ]
    }
   ],
   "source": [
    "def vowel(text):\n",
    "    vowels = \"aeiuoAEIOU\"\n",
    "    print(len([letter for letter in text if letter in vowels]))\n",
    "    print([letter for letter in text if letter in vowels])\n",
    "vowel('HHSHIQPOAOPPODFAHHEBFWOAEPJWEFWAPEG')\n"
   ]
  },
  {
   "cell_type": "markdown",
   "metadata": {},
   "source": [
    "# Write a python program to split a string on the last occurence of the delimiter"
   ]
  },
  {
   "cell_type": "code",
   "execution_count": 38,
   "metadata": {},
   "outputs": [
    {
     "name": "stdout",
     "output_type": "stream",
     "text": [
      "['r', 't', 'y', 'u', 'i', 'o', 'f', 'g', 'h', 'j']\n"
     ]
    }
   ],
   "source": [
    "str = \"r,t,y,u,i,o,f,g,h,j\"\n",
    "print(str.split(','))"
   ]
  },
  {
   "cell_type": "code",
   "execution_count": 40,
   "metadata": {},
   "outputs": [
    {
     "name": "stdout",
     "output_type": "stream",
     "text": [
      "['r', 't,y,u,i,o,f,g,h,j']\n"
     ]
    }
   ],
   "source": [
    "print(str.split(',',1))"
   ]
  },
  {
   "cell_type": "code",
   "execution_count": 41,
   "metadata": {},
   "outputs": [
    {
     "name": "stdout",
     "output_type": "stream",
     "text": [
      "['r,t,y,u,i,o,f,g,h', 'j']\n"
     ]
    }
   ],
   "source": [
    "print(str.rsplit(',',1))"
   ]
  },
  {
   "cell_type": "markdown",
   "metadata": {},
   "source": [
    "# Write a Python program to find the first non-repeating character in given string"
   ]
  },
  {
   "cell_type": "code",
   "execution_count": 53,
   "metadata": {},
   "outputs": [
    {
     "name": "stdout",
     "output_type": "stream",
     "text": [
      "a\n",
      "None\n"
     ]
    }
   ],
   "source": [
    "def first_non_repeating_character(str1):\n",
    "    char_order = []\n",
    "    ctr = {}\n",
    "    for c in str1:\n",
    "        if c in ctr:\n",
    "            ctr[c] += 1\n",
    "        else:\n",
    "            ctr [c] = 1\n",
    "            char_order.append(c)\n",
    "    for c in char_order:\n",
    "        if ctr[c] == 1:\n",
    "            return c\n",
    "        return None\n",
    "    \n",
    "print(first_non_repeating_character('abcdef'))\n",
    "print(first_non_repeating_character('abcabcdefh'))\n",
    "            \n",
    "            \n",
    "\n",
    "            "
   ]
  },
  {
   "cell_type": "markdown",
   "metadata": {},
   "source": [
    "# Write a Python program to print all permutations with given repetition number of characters of a given string."
   ]
  },
  {
   "cell_type": "code",
   "execution_count": 69,
   "metadata": {},
   "outputs": [
    {
     "name": "stdout",
     "output_type": "stream",
     "text": [
      "4\n"
     ]
    }
   ],
   "source": [
    "from itertools import product\n",
    "\n",
    "def all_repeat(str1, rno):\n",
    "    chars = list(str1)\n",
    "    results = []\n",
    "    \n",
    "    for c in product(chars, repeat = rno):\n",
    "        results.append(c)\n",
    "    return results\n",
    "\n",
    "#print(all_repeat('a',2))\n",
    "#print(all_repeat('abc',5))\n",
    "#print(all_repeat('sudip',6))\n",
    "print(len(all_repeat('su',2)))\n",
    "\n",
    "# formula\n",
    "\n",
    "\n",
    "\"\"\" \n",
    "from math import factorial\n",
    "def num_per(n,k):\n",
    "    return factorial(n)/factorial(n-k)\n",
    "\n",
    "print(num_per(6,4))\n",
    "\n",
    "\"\"\"\n",
    "\n",
    "        \n",
    "\n"
   ]
  },
  {
   "cell_type": "markdown",
   "metadata": {},
   "source": [
    "# Write a python program to compute sum of digits of a given strings."
   ]
  },
  {
   "cell_type": "code",
   "execution_count": 73,
   "metadata": {},
   "outputs": [
    {
     "name": "stdout",
     "output_type": "stream",
     "text": [
      "17\n"
     ]
    }
   ],
   "source": [
    "def sum_dig_str(str1):\n",
    "    sum_digit = 0\n",
    "    for x in str1:\n",
    "        if x.isdigit() == True:\n",
    "            z = int(x)\n",
    "            sum_digit = sum_digit + z\n",
    "        \n",
    "    return sum_digit\n",
    "\n",
    "\n",
    "print(sum_dig_str('123hsyst56'))\n",
    "        \n",
    "        \n",
    "        "
   ]
  },
  {
   "cell_type": "markdown",
   "metadata": {},
   "source": [
    "# JSON\n"
   ]
  },
  {
   "cell_type": "code",
   "execution_count": 88,
   "metadata": {},
   "outputs": [
    {
     "name": "stdout",
     "output_type": "stream",
     "text": [
      "\n",
      "JSON data:\n",
      "{'Name': 'David', 'Class': 'I', 'Age': 6}\n",
      "\n",
      "Name:  David\n",
      "Class:  I\n",
      "Age:  6\n"
     ]
    }
   ],
   "source": [
    "# Write a python program to convert JSON data to python object\n",
    "\n",
    "import json\n",
    "json_obj =  '{ \"Name\":\"David\", \"Class\":\"I\", \"Age\":6 }'\n",
    "python_obj = json.loads(json_obj)\n",
    "print(\"\\nJSON data:\")\n",
    "print(python_obj)\n",
    "print(\"\\nName: \",python_obj[\"Name\"])\n",
    "print(\"Class: \",python_obj[\"Class\"])\n",
    "print(\"Age: \",python_obj[\"Age\"]) \n"
   ]
  },
  {
   "cell_type": "code",
   "execution_count": 89,
   "metadata": {},
   "outputs": [
    {
     "data": {
      "text/plain": [
       "{'Name': 'David', 'Class': 'I', 'Age': 6}"
      ]
     },
     "execution_count": 89,
     "metadata": {},
     "output_type": "execute_result"
    }
   ],
   "source": [
    "python_obj"
   ]
  },
  {
   "cell_type": "markdown",
   "metadata": {},
   "source": [
    "#  Write a Python program to convert Python object to JSON data."
   ]
  },
  {
   "cell_type": "code",
   "execution_count": 93,
   "metadata": {},
   "outputs": [
    {
     "name": "stdout",
     "output_type": "stream",
     "text": [
      "<class 'dict'>\n",
      "{\"name\": \"David\", \"Class\": \"I\", \"Age\": 6}\n"
     ]
    }
   ],
   "source": [
    "import json\n",
    "\n",
    "python_obj = {\n",
    "    \"name\":  \"David\",\n",
    "    \"Class\":  \"I\",\n",
    "    \"Age\":  6    \n",
    "}\n",
    "\n",
    "print(type(python_obj))\n",
    "\n",
    "j_data = json.dumps(python_obj)\n",
    "\n",
    "print(j_data)"
   ]
  },
  {
   "cell_type": "markdown",
   "metadata": {},
   "source": [
    "Converrt python dictionary object to JSON data.Print the object with indent level 4"
   ]
  },
  {
   "cell_type": "code",
   "execution_count": 104,
   "metadata": {},
   "outputs": [
    {
     "name": "stdout",
     "output_type": "stream",
     "text": [
      "{'4': 5, '6': 7, '1': 3, '2': 4}\n",
      "JSON data:\n",
      "{\n",
      "    \"1\": 3,\n",
      "    \"2\": 4,\n",
      "    \"4\": 5,\n",
      "    \"6\": 7\n",
      "}\n"
     ]
    }
   ],
   "source": [
    "import json\n",
    "j_str = {'4':5, '6':7, '1':3, '2':4}\n",
    "\n",
    "print(j_str)\n",
    "\n",
    "print(\"JSON data:\")\n",
    "\n",
    "#print(json.dumps(j_str))\n",
    "\n",
    "print(json.dumps(j_str, sort_keys=True, indent=4))"
   ]
  },
  {
   "cell_type": "code",
   "execution_count": 101,
   "metadata": {},
   "outputs": [
    {
     "name": "stdout",
     "output_type": "stream",
     "text": [
      "Python dictionary:  {'name': 'David', 'age': 6, 'class': 'I'}\n",
      "Python list:  ['Red', 'Green', 'Black']\n",
      "Python string:  Python Json\n",
      "Python integer:  1234\n",
      "Python float:  21.34\n"
     ]
    }
   ],
   "source": [
    "import json\n",
    "\n",
    "jobj_dict =  '{\"name\": \"David\", \"age\": 6, \"class\": \"I\"}'\n",
    "jobj_list =   '[\"Red\", \"Green\", \"Black\"]'\n",
    "jobj_string = '\"Python Json\"'\n",
    "jobj_int = '1234'\n",
    "jobj_float =  '21.34'\n",
    "python_dict =  json.loads(jobj_dict)\n",
    "python_list = json.loads(jobj_list)\n",
    "python_str =  json.loads(jobj_string)\n",
    "python_int =   json.loads(jobj_int)\n",
    "python_float = json.loads(jobj_float)\n",
    "\n",
    "print(\"Python dictionary: \", python_dict)\n",
    "print(\"Python list: \", python_list)\n",
    "print(\"Python string: \", python_str)\n",
    "print(\"Python integer: \", python_int)\n",
    "print(\"Python float: \", python_float)\n"
   ]
  },
  {
   "cell_type": "code",
   "execution_count": 106,
   "metadata": {},
   "outputs": [],
   "source": [
    "#import json\n",
    "\n",
    "#with open('states.json') as f:\n",
    "#    state_data = json.load(f)"
   ]
  },
  {
   "cell_type": "markdown",
   "metadata": {},
   "source": [
    "Sum all the items in a list\n"
   ]
  },
  {
   "cell_type": "code",
   "execution_count": 109,
   "metadata": {},
   "outputs": [
    {
     "name": "stdout",
     "output_type": "stream",
     "text": [
      "21\n"
     ]
    }
   ],
   "source": [
    "def sum_list(items):\n",
    "    sum_num = 0\n",
    "    for x in items:\n",
    "        sum_num += x\n",
    "    return sum_num\n",
    "\n",
    "print(sum_list([1,2,3,4,5,6]))"
   ]
  },
  {
   "cell_type": "markdown",
   "metadata": {},
   "source": [
    "max num of list"
   ]
  },
  {
   "cell_type": "code",
   "execution_count": 111,
   "metadata": {},
   "outputs": [
    {
     "name": "stdout",
     "output_type": "stream",
     "text": [
      "8\n"
     ]
    }
   ],
   "source": [
    "def max_num_list(list):\n",
    "    max = list[0]\n",
    "    for a in list:\n",
    "        if a > max:\n",
    "            max = a\n",
    "    return max\n",
    "\n",
    "print(max_num_list([1,2,3,4,5,6,7,8,-9]))"
   ]
  },
  {
   "cell_type": "markdown",
   "metadata": {},
   "source": [
    "min num of list"
   ]
  },
  {
   "cell_type": "code",
   "execution_count": 128,
   "metadata": {},
   "outputs": [
    {
     "name": "stdout",
     "output_type": "stream",
     "text": [
      "-9\n"
     ]
    }
   ],
   "source": [
    "def max_num_list(list):\n",
    "    min = list[0]\n",
    "    for a in list:\n",
    "        if a < min:\n",
    "            min = a\n",
    "    return min\n",
    "\n",
    "print(max_num_list([1,2,3,4,5,6,7,8,-9]))"
   ]
  },
  {
   "cell_type": "markdown",
   "metadata": {},
   "source": [
    "dup and unique item of list"
   ]
  },
  {
   "cell_type": "code",
   "execution_count": 129,
   "metadata": {},
   "outputs": [
    {
     "name": "stdout",
     "output_type": "stream",
     "text": [
      "{40, 10, 80, 50, 20, 60, 30}\n",
      "[10, 20, 30, 50, 60, 40, 80]\n"
     ]
    }
   ],
   "source": [
    "a = [10,20,30,20,10,50,60,40,80,50,40]\n",
    "\n",
    "dup_items = set()\n",
    "uniq_items = []\n",
    "for x in a:\n",
    "    if x not in dup_items:\n",
    "        uniq_items.append(x)\n",
    "        dup_items.add(x)\n",
    "\n",
    "print(dup_items)\n",
    "print(uniq_items)\n"
   ]
  },
  {
   "cell_type": "markdown",
   "metadata": {},
   "source": [
    "Check empty list"
   ]
  },
  {
   "cell_type": "code",
   "execution_count": 118,
   "metadata": {},
   "outputs": [
    {
     "name": "stdout",
     "output_type": "stream",
     "text": [
      "List is empty\n"
     ]
    }
   ],
   "source": [
    "list = []\n",
    "if not list:\n",
    "    print (\"List is empty\")\n"
   ]
  },
  {
   "cell_type": "code",
   "execution_count": 124,
   "metadata": {},
   "outputs": [
    {
     "name": "stdout",
     "output_type": "stream",
     "text": [
      "List is full\n",
      "len_of_list: 4\n"
     ]
    }
   ],
   "source": [
    "list = [1,2,3,4]\n",
    "\n",
    "if not list:\n",
    "    print(\"List is empty\")\n",
    "else:\n",
    "    print(\"List is full\")\n",
    "    print(\"len_of_list:\",len(list))"
   ]
  },
  {
   "cell_type": "code",
   "execution_count": 130,
   "metadata": {},
   "outputs": [
    {
     "name": "stdout",
     "output_type": "stream",
     "text": [
      "True\n",
      "None\n"
     ]
    }
   ],
   "source": [
    "def common_data(list1, list2):\n",
    "     result = False\n",
    "     for x in list1:\n",
    "         for y in list2:\n",
    "             if x == y:\n",
    "                 result = True\n",
    "                 return result\n",
    "print(common_data([1,2,3,4,5], [5,6,7,8,9]))\n",
    "print(common_data([1,2,3,4,5], [6,7,8,9]))\n"
   ]
  },
  {
   "cell_type": "markdown",
   "metadata": {},
   "source": [
    "Second smallest number of the list"
   ]
  },
  {
   "cell_type": "code",
   "execution_count": 150,
   "metadata": {},
   "outputs": [
    {
     "name": "stdout",
     "output_type": "stream",
     "text": [
      "-1\n",
      "None\n"
     ]
    }
   ],
   "source": [
    "def second_smallest(numbers):\n",
    "    if (len(numbers) < 2):\n",
    "        return\n",
    "    if ((len(numbers) == 2) and (numbers[0]== numbers[1])):\n",
    "        return\n",
    "    dup_items = set()\n",
    "    uniq_items = []\n",
    "    for x in numbers:\n",
    "        if x not in dup_items:\n",
    "            uniq_items.append(x)\n",
    "            dup_items.add(x)\n",
    "    uniq_items.sort()\n",
    "    return uniq_items[1]\n",
    "\n",
    "\n",
    "print(second_smallest([2,3,4,5,6,-1,2,3,4,-2]))\n",
    "print(second_smallest([2,2]))"
   ]
  },
  {
   "cell_type": "markdown",
   "metadata": {},
   "source": [
    "Second largest number "
   ]
  },
  {
   "cell_type": "code",
   "execution_count": 148,
   "metadata": {},
   "outputs": [
    {
     "name": "stdout",
     "output_type": "stream",
     "text": [
      "3\n",
      "1\n",
      "None\n",
      "None\n"
     ]
    }
   ],
   "source": [
    "def second_largest(numbers):\n",
    "  if (len(numbers)<2):\n",
    "    return\n",
    "  if ((len(numbers)==2)  and (numbers[0] == numbers[1]) ):\n",
    "    return\n",
    "  dup_items = set()\n",
    "  uniq_items = []\n",
    "  for x in numbers:\n",
    "    if x not in dup_items:\n",
    "      uniq_items.append(x)\n",
    "      dup_items.add(x)\n",
    "  uniq_items.sort()    \n",
    "  return  uniq_items[-2]   \n",
    "print(second_largest([1,2,3,4,4]))\n",
    "print(second_largest([1, 1, 1, 0, 0, 0, 2, -2, -2]))\n",
    "print(second_largest([2,2]))\n",
    "print(second_largest([1]))\n"
   ]
  },
  {
   "cell_type": "code",
   "execution_count": 159,
   "metadata": {},
   "outputs": [
    {
     "data": {
      "text/plain": [
       "'\\nimport itertools\\n\\noriginal_list = [[2,4,3],[1,5,6], [9], [7,9,0]]\\n\\nnew_merged_list = list(itertools.chain(*original_list))\\n\\n\\nprint(new_merged_list)\\n\\n'"
      ]
     },
     "execution_count": 159,
     "metadata": {},
     "output_type": "execute_result"
    }
   ],
   "source": [
    "\"\"\"\n",
    "import itertools\n",
    "\n",
    "original_list = [[2,4,3],[1,5,6], [9], [7,9,0]]\n",
    "\n",
    "new_merged_list = list(itertools.chain(*original_list))\n",
    "\n",
    "\n",
    "print(new_merged_list)\n",
    "\n",
    "\"\"\""
   ]
  },
  {
   "cell_type": "markdown",
   "metadata": {},
   "source": [
    "add two lists"
   ]
  },
  {
   "cell_type": "code",
   "execution_count": 167,
   "metadata": {},
   "outputs": [
    {
     "name": "stdout",
     "output_type": "stream",
     "text": [
      "[1, 2, 3, 0, 'Red', 'Green', 'Black']\n"
     ]
    }
   ],
   "source": [
    "list1 = [1, 2, 3, 0]\n",
    "list2 = ['Red', 'Green', 'Black']\n",
    "final_list = list1 + list2\n",
    "print(final_list)\n",
    "\n",
    "\n"
   ]
  },
  {
   "cell_type": "markdown",
   "metadata": {},
   "source": [
    "Frequecy of numbers"
   ]
  },
  {
   "cell_type": "code",
   "execution_count": 172,
   "metadata": {},
   "outputs": [
    {
     "name": "stdout",
     "output_type": "stream",
     "text": [
      "Original list: [1, 1, 2, 3, 3, 4, 4, 5, 1, 2, 3, 4, 5, 1, 2, 3, 4, 5, 3, 5, 4, 3, 1, 3, 2, 3, 4]\n",
      "Frequency of the elements in my_list: Counter({3: 8, 4: 6, 1: 5, 2: 4, 5: 4})\n"
     ]
    }
   ],
   "source": [
    "import collections\n",
    "my_list = [1,1,2,3,3,4,4,5,1,2,3,4,5,1,2,3,4,5,3,5,4,3,1,3,2,3,4]\n",
    "print(\"Original list:\", my_list)\n",
    "\n",
    "ctr = collections.Counter(my_list)\n",
    "print(\"Frequency of the elements in my_list:\", ctr)"
   ]
  },
  {
   "cell_type": "markdown",
   "metadata": {},
   "source": [
    "count the number of elements in a list within a specified range"
   ]
  },
  {
   "cell_type": "code",
   "execution_count": 175,
   "metadata": {},
   "outputs": [
    {
     "name": "stdout",
     "output_type": "stream",
     "text": [
      "8\n"
     ]
    }
   ],
   "source": [
    "def count_range_in_list(list1, min, max):\n",
    "    ctr = 0\n",
    "    for x in list1:\n",
    "        if min <= x <=max:\n",
    "            ctr += 1\n",
    "    return ctr\n",
    "\n",
    "list2 = [30,35,20,45,60,10,200,80,30,80,90]\n",
    "\n",
    "print(count_range_in_list(list2, 30, 90))"
   ]
  },
  {
   "cell_type": "markdown",
   "metadata": {},
   "source": [
    "check whether a list contains a sublists "
   ]
  },
  {
   "cell_type": "code",
   "execution_count": 181,
   "metadata": {},
   "outputs": [
    {
     "name": "stdout",
     "output_type": "stream",
     "text": [
      "True\n",
      "False\n"
     ]
    }
   ],
   "source": [
    "def is_sublist(l, s):\n",
    "    sub_set = False\n",
    "    if s == []:\n",
    "        sub_set = True\n",
    "    elif s == l:\n",
    "            sub_set = True\n",
    "    elif len(s) > len (l):\n",
    "        sub_set = False\n",
    "        \n",
    "    else:\n",
    "        for i in range(len(l)):\n",
    "            if l[i] == s[0]:\n",
    "                n = 1\n",
    "                while (n< len(s)) and (l[i+n] == s[n]):\n",
    "                    n += 1\n",
    "                if n == len(s):\n",
    "                    sub_set = True\n",
    "                    \n",
    "    return sub_set\n",
    "\n",
    "\n",
    "a = [2,4,5,6,7,8]\n",
    "b = [2,4]\n",
    "c = [9,10]\n",
    "\n",
    "\n",
    "print(is_sublist(a,b))\n",
    "print(is_sublist(a,c))\n",
    "\n",
    "\n",
    "                "
   ]
  },
  {
   "cell_type": "markdown",
   "metadata": {},
   "source": [
    "Prime unmbers"
   ]
  },
  {
   "cell_type": "code",
   "execution_count": 182,
   "metadata": {},
   "outputs": [
    {
     "name": "stdout",
     "output_type": "stream",
     "text": [
      "2\n",
      "3\n",
      "5\n",
      "7\n",
      "11\n",
      "13\n",
      "17\n",
      "19\n",
      "None\n"
     ]
    }
   ],
   "source": [
    "def prime_number(n):\n",
    "    prime_list = []\n",
    "    for i in range (2, n+1):\n",
    "        if i not in prime_list:\n",
    "            print(i)\n",
    "            for j in range(i*i, n+1, i):\n",
    "                prime_list.append(j)\n",
    "                \n",
    "                \n",
    "print(prime_number(20))"
   ]
  },
  {
   "cell_type": "code",
   "execution_count": null,
   "metadata": {},
   "outputs": [],
   "source": []
  },
  {
   "cell_type": "code",
   "execution_count": 184,
   "metadata": {},
   "outputs": [
    {
     "ename": "TypeError",
     "evalue": "'str' object is not callable",
     "output_type": "error",
     "traceback": [
      "\u001b[0;31m---------------------------------------------------------------------------\u001b[0m",
      "\u001b[0;31mTypeError\u001b[0m                                 Traceback (most recent call last)",
      "\u001b[0;32m<ipython-input-184-abcbcb25d8c0>\u001b[0m in \u001b[0;36m<module>\u001b[0;34m\u001b[0m\n\u001b[1;32m      3\u001b[0m \u001b[0;32mfor\u001b[0m \u001b[0mx\u001b[0m \u001b[0;32min\u001b[0m \u001b[0mrange\u001b[0m\u001b[0;34m(\u001b[0m\u001b[0;36m1500\u001b[0m\u001b[0;34m,\u001b[0m \u001b[0;36m2701\u001b[0m\u001b[0;34m)\u001b[0m\u001b[0;34m:\u001b[0m\u001b[0;34m\u001b[0m\u001b[0;34m\u001b[0m\u001b[0m\n\u001b[1;32m      4\u001b[0m     \u001b[0;32mif\u001b[0m \u001b[0;34m(\u001b[0m\u001b[0mx\u001b[0m\u001b[0;34m%\u001b[0m\u001b[0;36m7\u001b[0m\u001b[0;34m==\u001b[0m\u001b[0;36m0\u001b[0m\u001b[0;34m)\u001b[0m \u001b[0;32mand\u001b[0m \u001b[0;34m(\u001b[0m\u001b[0mx\u001b[0m\u001b[0;34m%\u001b[0m\u001b[0;36m5\u001b[0m\u001b[0;34m==\u001b[0m\u001b[0;36m0\u001b[0m\u001b[0;34m)\u001b[0m\u001b[0;34m:\u001b[0m\u001b[0;34m\u001b[0m\u001b[0;34m\u001b[0m\u001b[0m\n\u001b[0;32m----> 5\u001b[0;31m         \u001b[0mnl\u001b[0m\u001b[0;34m.\u001b[0m\u001b[0mappend\u001b[0m\u001b[0;34m(\u001b[0m\u001b[0mstr\u001b[0m\u001b[0;34m(\u001b[0m\u001b[0mx\u001b[0m\u001b[0;34m)\u001b[0m\u001b[0;34m)\u001b[0m\u001b[0;34m\u001b[0m\u001b[0;34m\u001b[0m\u001b[0m\n\u001b[0m\u001b[1;32m      6\u001b[0m \u001b[0mprint\u001b[0m \u001b[0;34m(\u001b[0m\u001b[0;34m','\u001b[0m\u001b[0;34m.\u001b[0m\u001b[0mjoin\u001b[0m\u001b[0;34m(\u001b[0m\u001b[0mnl\u001b[0m\u001b[0;34m)\u001b[0m\u001b[0;34m)\u001b[0m\u001b[0;34m\u001b[0m\u001b[0;34m\u001b[0m\u001b[0m\n",
      "\u001b[0;31mTypeError\u001b[0m: 'str' object is not callable"
     ]
    }
   ],
   "source": [
    "nl=[]\n",
    "\n",
    "for x in range(1500, 2701):\n",
    "    if (x%7==0) and (x%5==0):\n",
    "        nl.append(str(x))\n",
    "print (','.join(nl))"
   ]
  },
  {
   "cell_type": "markdown",
   "metadata": {},
   "source": [
    "divisible by 7 and multiple of 5 between 1500 and 2700"
   ]
  },
  {
   "cell_type": "code",
   "execution_count": 187,
   "metadata": {},
   "outputs": [
    {
     "name": "stdout",
     "output_type": "stream",
     "text": [
      "[1190, 1225, 1260, 1295, 1330, 1365, 1400, 1435, 1470, 1505, 1540, 1575, 1610, 1645, 1680, 1715, 1750, 1785, 1820, 1855, 1890, 1925, 1960, 1995, 2030, 2065, 2100, 2135, 2170, 2205, 2240, 2275, 2310, 2345, 2380, 2415, 2450, 2485, 2520, 2555, 2590, 2625, 2660, 2695, 2730, 2765, 2800, 2835, 2870, 2905, 2940, 2975]\n"
     ]
    }
   ],
   "source": [
    "ans = []\n",
    "\n",
    "for x in range (1160, 3000):\n",
    "    if (x % 7==0) and (x%5 == 0):\n",
    "        ans.append(x)\n",
    "        \n",
    "print(ans)"
   ]
  },
  {
   "cell_type": "markdown",
   "metadata": {},
   "source": [
    "converting temp"
   ]
  },
  {
   "cell_type": "code",
   "execution_count": 188,
   "metadata": {},
   "outputs": [],
   "source": [
    "# c= (5/9)*(F -32)"
   ]
  },
  {
   "cell_type": "code",
   "execution_count": null,
   "metadata": {},
   "outputs": [],
   "source": [
    "temp = input(\"Input the  temperature you like to convert? (e.g., 45F, 102C etc.) : \")\n",
    "degree = int(temp[:-1])\n",
    "i_convention = temp[-1]\n",
    "\n",
    "\n",
    "if i_convention.upper() == \"C\":\n",
    "    result = int(round((9 * degree) / 5 + 32))\n",
    "    o_convention = \"Fahrenheit\"\n",
    "elif i_convention.upper () ==\"F\":\n",
    "    result = int(round((degree - 32)* 5/9))\n",
    "    o_convention = \"Celsius\"\n",
    "    \n",
    "else:\n",
    "     print(\"Input proper convention.\")\n",
    "        quit()\n",
    "        \n",
    "        \n",
    "print(\"The temperature in \", o_convention, \"is\", result, \"degrees.\")\n",
    "\n",
    "print(temp)\n",
    "            \n",
    "    \n",
    "    \n",
    "    \n",
    "    \n",
    "    \n",
    "    \n",
    "    \n",
    "\n",
    "\n",
    "    "
   ]
  },
  {
   "cell_type": "code",
   "execution_count": null,
   "metadata": {},
   "outputs": [],
   "source": []
  },
  {
   "cell_type": "code",
   "execution_count": 3,
   "metadata": {},
   "outputs": [
    {
     "name": "stdout",
     "output_type": "stream",
     "text": [
      "\n",
      "* \n",
      "* * \n",
      "* * * \n",
      "* * * * \n",
      "* * * * * \n",
      "* * * * \n",
      "* * * \n",
      "* * \n",
      "* \n"
     ]
    }
   ],
   "source": [
    "n=5;\n",
    "for i in range(n):\n",
    "    for j in range(i):\n",
    "        print ('* ', end=\"\")\n",
    "    print('')\n",
    "\n",
    "for i in range(n,0,-1):\n",
    "    for j in range(i):\n",
    "        print('* ', end=\"\")\n",
    "    print('')"
   ]
  },
  {
   "cell_type": "code",
   "execution_count": null,
   "metadata": {},
   "outputs": [],
   "source": []
  },
  {
   "cell_type": "markdown",
   "metadata": {},
   "source": [
    "even and odd numbers"
   ]
  },
  {
   "cell_type": "code",
   "execution_count": 10,
   "metadata": {},
   "outputs": [
    {
     "name": "stdout",
     "output_type": "stream",
     "text": [
      "Even numbers: 5\n",
      "Odd numbers: 6\n"
     ]
    }
   ],
   "source": [
    "numbers = (1,2,3,4,5,6,7,8,9,10,11)\n",
    "\n",
    "count_even = 0\n",
    "count_odd = 0\n",
    "\n",
    "for x in numbers:\n",
    "    if x % 2 == 0:\n",
    "        count_even += 1\n",
    "    else:\n",
    "        count_odd +=1\n",
    "\n",
    "        \n",
    "print(\"Even numbers:\", count_even)\n",
    "print(\"Odd numbers:\", count_odd)"
   ]
  },
  {
   "cell_type": "markdown",
   "metadata": {},
   "source": [
    "print number except choosen one "
   ]
  },
  {
   "cell_type": "code",
   "execution_count": 30,
   "metadata": {},
   "outputs": [
    {
     "name": "stdout",
     "output_type": "stream",
     "text": [
      "023457891112131416171819"
     ]
    }
   ],
   "source": [
    "for x in range(20):\n",
    "    if (x == 1 or x == 6 or x ==10 or x == 15):\n",
    "        continue\n",
    "    print (x , end = '')\n",
    "#print (\"\\n\")"
   ]
  },
  {
   "cell_type": "markdown",
   "metadata": {},
   "source": [
    "fibonacci number between 0 to 50"
   ]
  },
  {
   "cell_type": "code",
   "execution_count": 1,
   "metadata": {},
   "outputs": [
    {
     "name": "stdout",
     "output_type": "stream",
     "text": [
      "1\n",
      "1\n",
      "2\n",
      "3\n",
      "5\n",
      "8\n",
      "13\n",
      "21\n",
      "34\n"
     ]
    }
   ],
   "source": [
    "x, y = 0,1\n",
    "\n",
    "while y < 50:\n",
    "    print (y)\n",
    "    x,y = y, x+y\n"
   ]
  },
  {
   "cell_type": "code",
   "execution_count": null,
   "metadata": {},
   "outputs": [],
   "source": []
  }
 ],
 "metadata": {
  "kernelspec": {
   "display_name": "Python 3",
   "language": "python",
   "name": "python3"
  },
  "language_info": {
   "codemirror_mode": {
    "name": "ipython",
    "version": 3
   },
   "file_extension": ".py",
   "mimetype": "text/x-python",
   "name": "python",
   "nbconvert_exporter": "python",
   "pygments_lexer": "ipython3",
   "version": "3.6.9"
  }
 },
 "nbformat": 4,
 "nbformat_minor": 4
}
