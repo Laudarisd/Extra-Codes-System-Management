{
 "cells": [
  {
   "cell_type": "markdown",
   "metadata": {},
   "source": [
    "swapping"
   ]
  },
  {
   "cell_type": "code",
   "execution_count": 4,
   "metadata": {},
   "outputs": [
    {
     "name": "stdout",
     "output_type": "stream",
     "text": [
      "1\n",
      "2\n",
      "The value of x is 1\n",
      "The value of x is 2\n",
      "The value of x after swapping is 2\n",
      "The value of x after swapping is 1\n"
     ]
    }
   ],
   "source": [
    "# taking value from user\n",
    "\n",
    "x = input()\n",
    "y = input ()\n",
    "\n",
    "print('The value of x is {}'.format(x))\n",
    "print('The value of x is {}'.format(y))\n",
    "\n",
    "# swapping\n",
    "temp_var = x\n",
    "\n",
    "x = y\n",
    "\n",
    "y = temp_var\n",
    "\n",
    "print('The value of x after swapping is {}'.format(x))\n",
    "print('The value of x after swapping is {}'.format(y))\n",
    "\n"
   ]
  },
  {
   "cell_type": "markdown",
   "metadata": {},
   "source": [
    "factorial \n",
    "\n",
    "n! = n * (n-1) * (n-2) * (n-3) * (n-4) * (n-5) * (n-6) * (n-7) * . . . . . . .* 1\n"
   ]
  },
  {
   "cell_type": "code",
   "execution_count": 12,
   "metadata": {},
   "outputs": [
    {
     "name": "stdout",
     "output_type": "stream",
     "text": [
      " Enter the number for which factorial value to be determined : 5\n",
      "The factorial value for the 5 is 120\n"
     ]
    }
   ],
   "source": [
    "Number = int(input(\" Enter the number for which factorial value to be determined : \"))\n",
    "factorial = 1\n",
    "\n",
    "if Number < 0 :\n",
    "    print (\" Factorial value can't be intended for negative integers\")\n",
    "elif Number == 0: # default value for 0 is 1 in factorial properties\n",
    "    print (\" 1 is the factorial value\")\n",
    "else:\n",
    "    for i in range (1, Number+1): # to handle the loop\n",
    "        factorial = factorial*i\n",
    "    print(\"The factorial value for the\", Number, \"is\" , factorial)\n",
    "    \n",
    "    "
   ]
  },
  {
   "cell_type": "markdown",
   "metadata": {},
   "source": [
    "choose a random number "
   ]
  },
  {
   "cell_type": "code",
   "execution_count": 14,
   "metadata": {},
   "outputs": [
    {
     "data": {
      "text/plain": [
       "1"
      ]
     },
     "execution_count": 14,
     "metadata": {},
     "output_type": "execute_result"
    }
   ],
   "source": [
    "import random\n",
    "\n",
    "sequence = [1,2,3,4,5,6,7,8,910]\n",
    "\n",
    "random.choice(sequence)"
   ]
  },
  {
   "cell_type": "markdown",
   "metadata": {},
   "source": [
    "prime number using while loop"
   ]
  },
  {
   "cell_type": "code",
   "execution_count": 30,
   "metadata": {
    "scrolled": true
   },
   "outputs": [
    {
     "name": "stdout",
     "output_type": "stream",
     "text": [
      " Enter the integer range to find prime numbers10\n",
      "1 is neither prime nor composite\n",
      "2  is always prime\n",
      "3 is Prime\n",
      "4  is not Prime\n",
      "5 is Prime\n",
      "6  is not Prime\n",
      "7 is Prime\n",
      "8  is not Prime\n",
      "9 is Prime\n"
     ]
    }
   ],
   "source": [
    "range = int(input(\" Enter the integer range to find prime numbers\"))\n",
    "number = 1\n",
    "\n",
    "while number < range:\n",
    "    if number == 1:\n",
    "        print(number,\"is neither prime nor composite\")\n",
    "    elif number == 2:\n",
    "        print(number, \" is always prime\")    \n",
    "    elif number % 2 == 0:\n",
    "        print(number,\" is not Prime\")\n",
    "    \n",
    "        \n",
    "    else:\n",
    "        print(number, \"is Prime\")\n",
    "        \n",
    "    number +=1\n",
    "    \n",
    "        "
   ]
  },
  {
   "cell_type": "code",
   "execution_count": 57,
   "metadata": {},
   "outputs": [
    {
     "name": "stdout",
     "output_type": "stream",
     "text": [
      "Please enter values for x and y\n",
      "2\n",
      "2\n",
      "Sum of given numbers 4\n",
      "Sub of given numbers 0\n",
      "Mul of given numbers 4\n",
      "Div of given numbers 1.0\n"
     ]
    }
   ],
   "source": [
    "class calculator:\n",
    "    @staticmethod\n",
    "    def add(a,b):\n",
    "        return(a+b)\n",
    "    @staticmethod\n",
    "    def sub(a,b):\n",
    "        return (a-b)\n",
    "    @staticmethod\n",
    "    def mul(a,b):\n",
    "        return (a * b)\n",
    "    @staticmethod\n",
    "    def div(a,b):\n",
    "        return (a / b)\n",
    "    \n",
    "print(\"Please enter values for x and y\")\n",
    "x = int(input())\n",
    "y = int(input())\n",
    "\n",
    "print(\"Sum of given numbers\", calculator.add(x,y))\n",
    "print(\"Sub of given numbers\", calculator.sub(x,y))\n",
    "print(\"Mul of given numbers\", calculator.mul(x,y))\n",
    "print(\"Div of given numbers\", calculator.div(x,y))\n"
   ]
  },
  {
   "cell_type": "markdown",
   "metadata": {},
   "source": [
    "Program to categories human and checking eligibility to vote "
   ]
  },
  {
   "cell_type": "code",
   "execution_count": 62,
   "metadata": {},
   "outputs": [
    {
     "name": "stdout",
     "output_type": "stream",
     "text": [
      "Enter age\n",
      "34\n",
      "You are a/an Adult and you are  Eligible to vote\n"
     ]
    }
   ],
   "source": [
    "class classifier:\n",
    "    # method to classify a person's age\n",
    "    @staticmethod\n",
    "    def ageclassifier(age):\n",
    "        if age > 0 and age <=12:\n",
    "            return \"Child\"\n",
    "        elif age > 12 and age <=18:\n",
    "            return \" Adolescence\"\n",
    "        elif age > 18 and age <= 59:\n",
    "            return \"Adult\"\n",
    "        else:\n",
    "            return \"Senior adult\"\n",
    "        \n",
    "        # method to check voting eligibility \n",
    "    @staticmethod\n",
    "    def eligibility(age):\n",
    "        if age > 18 :\n",
    "            return \" Eligible to vote\"\n",
    "        else :\n",
    "            return \"Not eligible to vote\"\n",
    "        # Promoting user to enter his age\n",
    "        \n",
    "print(\"Enter age\")\n",
    "\n",
    "input_age = int(input())\n",
    "\n",
    "print(\"You are a/an\", \n",
    "      classifier.ageclassifier(input_age),\n",
    "      \"and you are\",\n",
    "      classifier.eligibility(input_age))"
   ]
  },
  {
   "cell_type": "code",
   "execution_count": 72,
   "metadata": {},
   "outputs": [
    {
     "name": "stdout",
     "output_type": "stream",
     "text": [
      " Going to close the file\n"
     ]
    }
   ],
   "source": [
    "try:\n",
    "    df = open(\"./13.jpg\", \"w\")\n",
    "    try:\n",
    "        df.write(\"Exception handeling\")\n",
    "    finally:\n",
    "            print(\" Going to close the file\")\n",
    "    df.close()\n",
    "except IOError:\n",
    "        print(\"Error: can't find file or read data \")"
   ]
  },
  {
   "cell_type": "markdown",
   "metadata": {},
   "source": [
    ".format()"
   ]
  },
  {
   "cell_type": "code",
   "execution_count": 10,
   "metadata": {},
   "outputs": [
    {
     "name": "stdout",
     "output_type": "stream",
     "text": [
      "A is a nice boy\n",
      "who is inside of my house\n"
     ]
    }
   ],
   "source": [
    "str = \"A is a nice {}\"\n",
    "print(str.format(\"boy\"))\n",
    "\n",
    "print(\"who is inside of my {}\".format(\"house\"))"
   ]
  },
  {
   "cell_type": "code",
   "execution_count": 13,
   "metadata": {},
   "outputs": [
    {
     "name": "stdout",
     "output_type": "stream",
     "text": [
      "B is a nice boy and he is young,good\n"
     ]
    }
   ],
   "source": [
    "str = \"B is a nice {} and he is {},{}\"\n",
    "print(str.format(\"boy\",\"young\",\"good\"))"
   ]
  },
  {
   "cell_type": "markdown",
   "metadata": {},
   "source": [
    "socket program \n"
   ]
  },
  {
   "cell_type": "code",
   "execution_count": 18,
   "metadata": {},
   "outputs": [
    {
     "ename": "OSError",
     "evalue": "[Errno 98] Address already in use",
     "output_type": "error",
     "traceback": [
      "\u001b[0;31m---------------------------------------------------------------------------\u001b[0m",
      "\u001b[0;31mOSError\u001b[0m                                   Traceback (most recent call last)",
      "\u001b[0;32m<ipython-input-18-d8b4ba0db8a4>\u001b[0m in \u001b[0;36m<module>\u001b[0;34m\u001b[0m\n\u001b[1;32m      6\u001b[0m \u001b[0mport\u001b[0m \u001b[0;34m=\u001b[0m \u001b[0;36m1234\u001b[0m\u001b[0;34m\u001b[0m\u001b[0;34m\u001b[0m\u001b[0m\n\u001b[1;32m      7\u001b[0m \u001b[0;34m\u001b[0m\u001b[0m\n\u001b[0;32m----> 8\u001b[0;31m \u001b[0ms\u001b[0m\u001b[0;34m.\u001b[0m\u001b[0mbind\u001b[0m\u001b[0;34m(\u001b[0m\u001b[0;34m(\u001b[0m\u001b[0mhost\u001b[0m\u001b[0;34m,\u001b[0m \u001b[0mport\u001b[0m\u001b[0;34m)\u001b[0m\u001b[0;34m)\u001b[0m\u001b[0;34m\u001b[0m\u001b[0;34m\u001b[0m\u001b[0m\n\u001b[0m\u001b[1;32m      9\u001b[0m \u001b[0ms\u001b[0m\u001b[0;34m.\u001b[0m\u001b[0mlisten\u001b[0m\u001b[0;34m(\u001b[0m\u001b[0;36m5\u001b[0m\u001b[0;34m)\u001b[0m\u001b[0;34m\u001b[0m\u001b[0;34m\u001b[0m\u001b[0m\n\u001b[1;32m     10\u001b[0m \u001b[0msocketclient\u001b[0m\u001b[0;34m,\u001b[0m \u001b[0maddress\u001b[0m \u001b[0;34m=\u001b[0m \u001b[0ms\u001b[0m\u001b[0;34m.\u001b[0m\u001b[0maccept\u001b[0m\u001b[0;34m(\u001b[0m\u001b[0;34m)\u001b[0m\u001b[0;34m\u001b[0m\u001b[0;34m\u001b[0m\u001b[0m\n",
      "\u001b[0;31mOSError\u001b[0m: [Errno 98] Address already in use"
     ]
    }
   ],
   "source": [
    "import socket\n",
    "\n",
    "s = socket.socket(socket.AF_INET,socket.SOCK_STREAM)\n",
    "host = socket.gethostname()\n",
    "\n",
    "port = 1234\n",
    "\n",
    "s.bind((host, port))\n",
    "s.listen(5)\n",
    "socketclient, address = s.accept()\n",
    "\n",
    "print(\"Connection received from another terminal\", address)"
   ]
  },
  {
   "cell_type": "code",
   "execution_count": 19,
   "metadata": {},
   "outputs": [],
   "source": [
    "import socket\n",
    "\n",
    "s = socket.socket(socket.AF_INET, socket.SOCK_STREAM)\n",
    "host = socket.gethostname()\n",
    "port = 1234\n",
    "\n",
    "s.connect((host, port))"
   ]
  },
  {
   "cell_type": "code",
   "execution_count": null,
   "metadata": {},
   "outputs": [],
   "source": []
  },
  {
   "cell_type": "code",
   "execution_count": 21,
   "metadata": {},
   "outputs": [
    {
     "name": "stdout",
     "output_type": "stream",
     "text": [
      " error found\n"
     ]
    }
   ],
   "source": [
    "import sqlite3\n",
    "\n",
    "\n",
    "db=sqlite3.connect('test.db')\n",
    "qry1=\"insert into student (name, age, marks) values(?,?,?);\"\n",
    "qry2=\"update student set age=? where name=?;\"\n",
    "qry3=\"SELECT * from student;\"\n",
    "qry4=\"DELETE from student where name=?;\"\n",
    "students=[('A', 17, 20), ('B', 45, 87)] \n",
    "\n",
    "try:\n",
    "    cur=db.cursor()\n",
    "    cur.executemany(qry1, students)\n",
    "    cur.execute(qry2, (19,'A'))\n",
    "    db.commit()\n",
    "    cur.execute(qry3)\n",
    "    print(\" record updated!! \")\n",
    "    cur.execute(qry4, ('C',))\n",
    "    db.commit()\n",
    "    print(\" record deleted!! \")\n",
    "except:\n",
    "    print(\" error found\")\n",
    "\n",
    "db.rollback()\n",
    "db.close()"
   ]
  },
  {
   "cell_type": "code",
   "execution_count": 37,
   "metadata": {},
   "outputs": [
    {
     "name": "stdout",
     "output_type": "stream",
     "text": [
      "Connected Successfully to SQLite\n"
     ]
    }
   ],
   "source": [
    "import sqlite3\n",
    "from sqlite3 import Error\n",
    "\n",
    "\n",
    "def sql_conn():\n",
    "    \n",
    "    try:\n",
    "        con = sqlite3.connect(\"test1.db\")\n",
    "        print(\"Connected Successfully to SQLite\")\n",
    "    except Error:\n",
    "        print(Error)\n",
    "        \n",
    "    finally:\n",
    "        # closing the connection eshtablished with database\n",
    "        con.close()\n",
    "        \n",
    "sql_conn()\n",
    "\n",
    "    # Creating cursor object and naming it as cur\n",
    "        #cur = con.cursor()\n",
    "\n",
    "        #print(\"cursor created successfully\")\n",
    "\n"
   ]
  },
  {
   "cell_type": "markdown",
   "metadata": {},
   "source": [
    "Statistics"
   ]
  },
  {
   "cell_type": "code",
   "execution_count": 49,
   "metadata": {},
   "outputs": [
    {
     "name": "stdout",
     "output_type": "stream",
     "text": [
      "Mean of given example is: 5.928571428571429\n",
      "Median of given example is: 6.0\n",
      "Stdev of given example is: 2.2001498450467736\n",
      "Variance is given example is: 4.840659340659341\n"
     ]
    }
   ],
   "source": [
    "import statistics as stat\n",
    "\n",
    "df = [6,7,8,9,2,3,4,5,6,7,8,9,4,5]\n",
    "\n",
    "mean_df = stat.mean(df)\n",
    "print(\"Mean of given example is:\", mean_df)\n",
    "\n",
    "median_df = stat.median(df)\n",
    "print(\"Median of given example is:\", median_df)\n",
    "\n",
    "#mode_eg = stat.mode(list_eg)\n",
    "#print(\"Mode of given example is:\", mode_eg)\n",
    "\n",
    "stdev_df = stat.stdev(df)\n",
    "print(\"Stdev of given example is:\", stdev_df)\n",
    "\n",
    "variance_df = stat.variance(df)\n",
    "print(\"Variance is given example is:\", variance_eg)\n"
   ]
  },
  {
   "cell_type": "code",
   "execution_count": 62,
   "metadata": {},
   "outputs": [],
   "source": [
    "\n"
   ]
  },
  {
   "cell_type": "code",
   "execution_count": null,
   "metadata": {},
   "outputs": [],
   "source": []
  },
  {
   "cell_type": "code",
   "execution_count": null,
   "metadata": {},
   "outputs": [],
   "source": []
  }
 ],
 "metadata": {
  "kernelspec": {
   "display_name": "Python 3",
   "language": "python",
   "name": "python3"
  },
  "language_info": {
   "codemirror_mode": {
    "name": "ipython",
    "version": 3
   },
   "file_extension": ".py",
   "mimetype": "text/x-python",
   "name": "python",
   "nbconvert_exporter": "python",
   "pygments_lexer": "ipython3",
   "version": "3.6.9"
  }
 },
 "nbformat": 4,
 "nbformat_minor": 4
}
