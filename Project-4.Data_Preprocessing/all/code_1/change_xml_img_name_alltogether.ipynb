{
 "cells": [
  {
   "cell_type": "code",
   "execution_count": 23,
   "metadata": {},
   "outputs": [
    {
     "name": "stdout",
     "output_type": "stream",
     "text": [
      "total number is  0\n",
      "total number is  0\n",
      "total number is  0\n",
      "total number is  0\n",
      "total number is  0\n",
      "total number is  0\n",
      "total number is  0\n",
      "total number is  0\n",
      "total number is  0\n",
      "total number is  0\n",
      "total number is  0\n",
      "total number is  0\n",
      "total number is  0\n"
     ]
    }
   ],
   "source": [
    "#coding:utf-8\n",
    "from PIL import Image\n",
    "import os.path\n",
    "import glob\n",
    "import xml.etree.ElementTree as ET\n",
    "import xml.dom.minidom\n",
    " \n",
    "i = 0\n",
    "\n",
    "xmldir = \"./edit/labels/\"\n",
    "imgsdir = \"./edit/images/\"\n",
    "for xmlfile in os.listdir(xmldir):\n",
    "    xmlname = os.path.splitext(xmlfile)[0]\n",
    "for img in os.listdir(imgsdir):\n",
    "    imgname, imgext = os.path.splitext(img)\n",
    "    #pngname = os.path.splitext(pngfile)[0]\n",
    "    if imgext == \"png\":        \n",
    "        if imgname == xmlname:            \n",
    "            olddir = os.path.join(os.path.abspath(imgsdir), imgname + \".png\")\n",
    "            newdir = os.path.join(os.path.abspath(imgsdir), str(i)+\".png\")\n",
    "            os.rename(olddir, newdir)\n",
    "            print(xmlfile, '----->', str(i) + '.png')\n",
    "            dom = xml.dom.minidom.parse(os.path.join(xmldir, xmlfile))\n",
    "            root = dom.documentElement\n",
    "            root.getElementsByTagName('filename')[0].firstChild.data = str(i) + '.png'\n",
    "            old_xmldir = os.path.join(xmldir, xmlfile)\n",
    "            new_xmldir = os.path.join(xmldir, str(i)+'.xml')\n",
    "            with open(old_xmldir, 'w') as fh:\n",
    "                dom.writexml(fh)\n",
    "            os.rename(old_xmldir, new_xmldir)\n",
    "    elif imgext == \"jpg\":\n",
    "        if imgname == xmlname:            \n",
    "            lddir = os.path.join(os.path.abspath(imgsdir), imgname + \".jpg\")\n",
    "            newdir = os.path.join(os.path.abspath(imgsdir), str(i)+\".jpg\")\n",
    "            os.rename(olddir, newdir)\n",
    "            print(xmlfile, '----->', str(i) + '.jpg')\n",
    "            dom = xml.dom.minidom.parse(os.path.join(xmldir, xmlfile))\n",
    "            root = dom.documentElement\n",
    "            root.getElementsByTagName('filename')[0].firstChild.data = str(i) + '.jpg'\n",
    "            old_xmldir = os.path.join(xmldir, xmlfile)\n",
    "            new_xmldir = os.path.join(xmldir, str(i)+'.xml')\n",
    "            with open(old_xmldir, 'w') as fh:\n",
    "                dom.writexml(fh)\n",
    "            os.rename(old_xmldir, new_xmldir)\n",
    "        i += 1\n",
    "    print('total number is ', i)"
   ]
  },
  {
   "cell_type": "code",
   "execution_count": 24,
   "metadata": {},
   "outputs": [
    {
     "data": {
      "text/plain": [
       "'aaa_bbbb_ccc_38'"
      ]
     },
     "execution_count": 24,
     "metadata": {},
     "output_type": "execute_result"
    }
   ],
   "source": [
    "imgname"
   ]
  },
  {
   "cell_type": "code",
   "execution_count": null,
   "metadata": {},
   "outputs": [],
   "source": []
  },
  {
   "cell_type": "code",
   "execution_count": 14,
   "metadata": {},
   "outputs": [
    {
     "ename": "FileNotFoundError",
     "evalue": "[Errno 2] No such file or directory: '/home/vision/Downloads/edit/images/aaa_bbbb_ccc_29.png' -> '/home/vision/Downloads/edit/images/1.png'",
     "output_type": "error",
     "traceback": [
      "\u001b[0;31m---------------------------------------------------------------------------\u001b[0m",
      "\u001b[0;31mFileNotFoundError\u001b[0m                         Traceback (most recent call last)",
      "\u001b[0;32m<ipython-input-14-c4bf4bb3c4ef>\u001b[0m in \u001b[0;36m<module>\u001b[0;34m\u001b[0m\n\u001b[1;32m      8\u001b[0m         \u001b[0molddir\u001b[0m \u001b[0;34m=\u001b[0m \u001b[0mos\u001b[0m\u001b[0;34m.\u001b[0m\u001b[0mpath\u001b[0m\u001b[0;34m.\u001b[0m\u001b[0mjoin\u001b[0m\u001b[0;34m(\u001b[0m\u001b[0mos\u001b[0m\u001b[0;34m.\u001b[0m\u001b[0mpath\u001b[0m\u001b[0;34m.\u001b[0m\u001b[0mabspath\u001b[0m\u001b[0;34m(\u001b[0m\u001b[0mimgsdir\u001b[0m\u001b[0;34m)\u001b[0m\u001b[0;34m,\u001b[0m \u001b[0mpngname\u001b[0m \u001b[0;34m+\u001b[0m \u001b[0;34m\".png\"\u001b[0m\u001b[0;34m)\u001b[0m\u001b[0;34m\u001b[0m\u001b[0;34m\u001b[0m\u001b[0m\n\u001b[1;32m      9\u001b[0m         \u001b[0mnewdir\u001b[0m \u001b[0;34m=\u001b[0m \u001b[0mos\u001b[0m\u001b[0;34m.\u001b[0m\u001b[0mpath\u001b[0m\u001b[0;34m.\u001b[0m\u001b[0mjoin\u001b[0m\u001b[0;34m(\u001b[0m\u001b[0mos\u001b[0m\u001b[0;34m.\u001b[0m\u001b[0mpath\u001b[0m\u001b[0;34m.\u001b[0m\u001b[0mabspath\u001b[0m\u001b[0;34m(\u001b[0m\u001b[0mimgsdir\u001b[0m\u001b[0;34m)\u001b[0m\u001b[0;34m,\u001b[0m \u001b[0mstr\u001b[0m\u001b[0;34m(\u001b[0m\u001b[0mi\u001b[0m\u001b[0;34m)\u001b[0m\u001b[0;34m+\u001b[0m\u001b[0;34m\".png\"\u001b[0m\u001b[0;34m)\u001b[0m\u001b[0;34m\u001b[0m\u001b[0;34m\u001b[0m\u001b[0m\n\u001b[0;32m---> 10\u001b[0;31m         \u001b[0mos\u001b[0m\u001b[0;34m.\u001b[0m\u001b[0mrename\u001b[0m\u001b[0;34m(\u001b[0m\u001b[0molddir\u001b[0m\u001b[0;34m,\u001b[0m \u001b[0mnewdir\u001b[0m\u001b[0;34m)\u001b[0m\u001b[0;34m\u001b[0m\u001b[0;34m\u001b[0m\u001b[0m\n\u001b[0m\u001b[1;32m     11\u001b[0m         \u001b[0mprint\u001b[0m\u001b[0;34m(\u001b[0m\u001b[0mxmlfile\u001b[0m\u001b[0;34m,\u001b[0m \u001b[0;34m'----->'\u001b[0m\u001b[0;34m,\u001b[0m \u001b[0mstr\u001b[0m\u001b[0;34m(\u001b[0m\u001b[0mi\u001b[0m\u001b[0;34m)\u001b[0m \u001b[0;34m+\u001b[0m \u001b[0;34m'.png'\u001b[0m\u001b[0;34m)\u001b[0m\u001b[0;34m\u001b[0m\u001b[0;34m\u001b[0m\u001b[0m\n\u001b[1;32m     12\u001b[0m         \u001b[0mdom\u001b[0m \u001b[0;34m=\u001b[0m \u001b[0mxml\u001b[0m\u001b[0;34m.\u001b[0m\u001b[0mdom\u001b[0m\u001b[0;34m.\u001b[0m\u001b[0mminidom\u001b[0m\u001b[0;34m.\u001b[0m\u001b[0mparse\u001b[0m\u001b[0;34m(\u001b[0m\u001b[0mos\u001b[0m\u001b[0;34m.\u001b[0m\u001b[0mpath\u001b[0m\u001b[0;34m.\u001b[0m\u001b[0mjoin\u001b[0m\u001b[0;34m(\u001b[0m\u001b[0mxmldir\u001b[0m\u001b[0;34m,\u001b[0m \u001b[0mxmlfile\u001b[0m\u001b[0;34m)\u001b[0m\u001b[0;34m)\u001b[0m\u001b[0;34m\u001b[0m\u001b[0;34m\u001b[0m\u001b[0m\n",
      "\u001b[0;31mFileNotFoundError\u001b[0m: [Errno 2] No such file or directory: '/home/vision/Downloads/edit/images/aaa_bbbb_ccc_29.png' -> '/home/vision/Downloads/edit/images/1.png'"
     ]
    }
   ],
   "source": [
    "xmldir = \"./edit/labels/\"\n",
    "imgsdir = \"./edit/images/\"\n",
    "for xmlfile in os.listdir(xmldir):\n",
    "    xmlname = os.path.splitext(xmlfile)[0]\n",
    "for pngfile in os.listdir(imgsdir):\n",
    "    pngname = os.path.splitext(pngfile)[0]\n",
    "    if pngname == xmlname:            \n",
    "        olddir = os.path.join(os.path.abspath(imgsdir), pngname + \".png\")\n",
    "        newdir = os.path.join(os.path.abspath(imgsdir), str(i)+\".png\")\n",
    "        os.rename(olddir, newdir)\n",
    "        print(xmlfile, '----->', str(i) + '.png')\n",
    "        dom = xml.dom.minidom.parse(os.path.join(xmldir, xmlfile))\n",
    "        root = dom.documentElement\n",
    "        root.getElementsByTagName('filename')[0].firstChild.data = str(i) + '.png'\n",
    "        old_xmldir = os.path.join(xmldir, xmlfile)\n",
    "        new_xmldir = os.path.join(xmldir, str(i)+'.xml')\n",
    "        with open(old_xmldir, 'w') as fh:\n",
    "            dom.writexml(fh)\n",
    "        os.rename(old_xmldir, new_xmldir)\n",
    "        i += 1\n",
    "    elif pngname == xmlname:\n",
    "        lddir = os.path.join(os.path.abspath(imgsdir), pngname + \".jpg\")\n",
    "        newdir = os.path.join(os.path.abspath(imgsdir), str(i)+\".jpg\")\n",
    "        os.rename(olddir, newdir)\n",
    "        print(xmlfile, '----->', str(i) + '.jpg')\n",
    "        dom = xml.dom.minidom.parse(os.path.join(xmldir, xmlfile))\n",
    "        root = dom.documentElement\n",
    "        root.getElementsByTagName('filename')[0].firstChild.data = str(i) + '.jpg'\n",
    "        old_xmldir = os.path.join(xmldir, xmlfile)\n",
    "        new_xmldir = os.path.join(xmldir, str(i)+'.xml')\n",
    "        with open(old_xmldir, 'w') as fh:\n",
    "            dom.writexml(fh)\n",
    "        os.rename(old_xmldir, new_xmldir)\n",
    "        i += 1\n",
    "        print(\"file names are not matching\")\n",
    "print('total number is ', i)"
   ]
  },
  {
   "cell_type": "code",
   "execution_count": 83,
   "metadata": {},
   "outputs": [
    {
     "data": {
      "text/plain": [
       "'/home/vision/Downloads/edit/images/10.jpg'"
      ]
     },
     "execution_count": 83,
     "metadata": {},
     "output_type": "execute_result"
    }
   ],
   "source": [
    "newdir"
   ]
  },
  {
   "cell_type": "code",
   "execution_count": 59,
   "metadata": {},
   "outputs": [
    {
     "data": {
      "text/plain": [
       "'.jpg'"
      ]
     },
     "execution_count": 59,
     "metadata": {},
     "output_type": "execute_result"
    }
   ],
   "source": [
    "imgext"
   ]
  },
  {
   "cell_type": "code",
   "execution_count": 7,
   "metadata": {},
   "outputs": [
    {
     "data": {
      "text/plain": [
       "'.jpg'"
      ]
     },
     "execution_count": 7,
     "metadata": {},
     "output_type": "execute_result"
    }
   ],
   "source": [
    " elif imgext == \"jpg\":\n",
    "            if imgname == xmlname:            \n",
    "                # Modify the image file name\n",
    "                # The path before and after the modification of the image file name\n",
    "                olddir = os.path.join(os.path.abspath(imgsdir), imgname + \".jpg\")\n",
    "                newdir = os.path.join(os.path.abspath(imgsdir), str(i)+\".jpg\")\n",
    "                os.rename(olddir, newdir)\n",
    "                print(xmlfile, '----->', str(i) + '.jpg')\n",
    "                # Modify filename node attribute\n",
    "                # Read xml file\n",
    "                dom = xml.dom.minidom.parse(os.path.join(xmldir, xmlfile))\n",
    "                root = dom.documentElement\n",
    "\n",
    "                # Get the value between the tag pair filename and assign a new value i\n",
    "                root.getElementsByTagName('filename')[0].firstChild.data = str(i) + '.jpg'\n",
    "\n",
    "                # Save the modified xml file\n",
    "                # xml file path before and after modification\n",
    "                old_xmldir = os.path.join(xmldir, xmlfile)\n",
    "                new_xmldir = os.path.join(xmldir, str(i)+'.xml')\n",
    "                # Open and write\n",
    "                with open(old_xmldir, 'w') as fh:\n",
    "                    dom.writexml(fh)\n",
    "                os.rename(old_xmldir, new_xmldir)\n",
    "                i += 1\n",
    "    print('total number is ', i)"
   ]
  },
  {
   "cell_type": "code",
   "execution_count": null,
   "metadata": {},
   "outputs": [],
   "source": []
  },
  {
   "cell_type": "code",
   "execution_count": null,
   "metadata": {},
   "outputs": [],
   "source": [
    "for xmlfile in os.listdir(xmldir):\n",
    "    xmlname = os.path.splitext(xmlfile)[0]\n",
    "    for pngfile in os.listdir(imgsdir):\n",
    "        pngname = os.path.splitext(pngfile)[0]\n",
    "        if pngname == xmlname:            \n",
    "            # Modify the image file name\n",
    "            # The path before and after the modification of the image file name\n",
    "            olddir = os.path.join(os.path.abspath(imgsdir), pngname + \".jpg\")\n",
    "            newdir = os.path.join(os.path.abspath(imgsdir), str(i)+\".jpg\")\n",
    "            os.rename(olddir, newdir)\n",
    "            print(xmlfile, '----->', str(i) + '.jpg')\n",
    "            # Modify filename node attribute\n",
    "            # Read xml file\n",
    "            dom = xml.dom.minidom.parse(os.path.join(xmldir, xmlfile))\n",
    "            root = dom.documentElement\n",
    "\n",
    "            # Get the value between the tag pair filename and assign a new value i\n",
    "            root.getElementsByTagName('filename')[0].firstChild.data = str(i) + '.jpg'\n",
    "\n",
    "            # Save the modified xml file\n",
    "            # xml file path before and after modification\n",
    "            old_xmldir = os.path.join(xmldir, xmlfile)\n",
    "            new_xmldir = os.path.join(xmldir, str(i)+'.xml')\n",
    "            # Open and write\n",
    "            with open(old_xmldir, 'w') as fh:\n",
    "                dom.writexml(fh)\n",
    "            os.rename(old_xmldir, new_xmldir)\n",
    "            i += 1\n",
    "print('total number is ', i)"
   ]
  },
  {
   "cell_type": "code",
   "execution_count": null,
   "metadata": {},
   "outputs": [],
   "source": []
  },
  {
   "cell_type": "code",
   "execution_count": null,
   "metadata": {},
   "outputs": [],
   "source": []
  }
 ],
 "metadata": {
  "kernelspec": {
   "display_name": "Python 3",
   "language": "python",
   "name": "python3"
  },
  "language_info": {
   "codemirror_mode": {
    "name": "ipython",
    "version": 3
   },
   "file_extension": ".py",
   "mimetype": "text/x-python",
   "name": "python",
   "nbconvert_exporter": "python",
   "pygments_lexer": "ipython3",
   "version": "3.8.5"
  }
 },
 "nbformat": 4,
 "nbformat_minor": 2
}
