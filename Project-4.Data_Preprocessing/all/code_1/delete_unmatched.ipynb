{
 "cells": [
  {
   "cell_type": "code",
   "execution_count": 1,
   "id": "2d383106",
   "metadata": {},
   "outputs": [],
   "source": [
    "from pathlib import Path\n",
    "keep_stems = set(file.stem for file in Path('./labels/').glob('*.xml'))\n",
    "delete_paths = [file for file in Path('./images/').glob('*.jpg') if file.stem not in keep_stems]\n",
    "for file in delete_paths:\n",
    "    file.unlink()"
   ]
  },
  {
   "cell_type": "code",
   "execution_count": null,
   "id": "a7e20141",
   "metadata": {},
   "outputs": [],
   "source": []
  }
 ],
 "metadata": {
  "kernelspec": {
   "display_name": "Python 3",
   "language": "python",
   "name": "python3"
  },
  "language_info": {
   "codemirror_mode": {
    "name": "ipython",
    "version": 3
   },
   "file_extension": ".py",
   "mimetype": "text/x-python",
   "name": "python",
   "nbconvert_exporter": "python",
   "pygments_lexer": "ipython3",
   "version": "3.8.5"
  }
 },
 "nbformat": 4,
 "nbformat_minor": 5
}
