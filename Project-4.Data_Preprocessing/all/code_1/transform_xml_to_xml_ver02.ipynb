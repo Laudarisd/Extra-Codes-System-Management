{
 "cells": [
  {
   "cell_type": "code",
   "execution_count": 19,
   "metadata": {
    "ExecuteTime": {
     "end_time": "2021-05-27T03:20:59.724148Z",
     "start_time": "2021-05-27T03:20:59.708150Z"
    }
   },
   "outputs": [],
   "source": [
    "import pandas\n",
    "import numpy\n",
    "import os\n",
    "# from tqdm import tqdm_notebook\n",
    "\n",
    "from xml.etree.ElementTree import parse, Element, SubElement, ElementTree\n",
    "import xml.etree.ElementTree as ET"
   ]
  },
  {
   "cell_type": "code",
   "execution_count": 20,
   "metadata": {
    "ExecuteTime": {
     "end_time": "2021-05-27T03:19:49.969092Z",
     "start_time": "2021-05-27T03:19:49.965092Z"
    }
   },
   "outputs": [],
   "source": [
    "file_path = './2/labels'"
   ]
  },
  {
   "cell_type": "code",
   "execution_count": 21,
   "metadata": {
    "ExecuteTime": {
     "end_time": "2021-05-27T03:26:28.242557Z",
     "start_time": "2021-05-27T03:26:28.220552Z"
    }
   },
   "outputs": [],
   "source": [
    "#save_root1 = \"./traffic_light\"\n",
    "save_root2 = \"./traffic_sign\"\n",
    "\n",
    "\n",
    "#if not os.path.exists(save_root1):\n",
    "#    os.mkdir(save_root1)\n",
    "\n",
    "if not os.path.exists(save_root2):\n",
    "    os.mkdir(save_root2)\n",
    "\n",
    "\n",
    "def indent(elem, level=0): #자료 출처 https://goo.gl/J8VoDK\n",
    "    i = \"\\n\" + level*\"    \"\n",
    "    if len(elem):\n",
    "        if not elem.text or not elem.text.strip():\n",
    "            elem.text = i + \"    \"\n",
    "        if not elem.tail or not elem.tail.strip():\n",
    "            elem.tail = i\n",
    "        for elem in elem:\n",
    "            indent(elem, level+1)\n",
    "        if not elem.tail or not elem.tail.strip():\n",
    "            elem.tail = i\n",
    "    else:\n",
    "        if level and (not elem.tail or not elem.tail.strip()):\n",
    "            elem.tail = i\n",
    "\n",
    "            \n",
    ", filename, width, height, bbox_list):\n",
    "    root = Element('annotation')\n",
    "    SubElement(root, 'folder').text = folder\n",
    "    SubElement(root, 'filename').text = filename\n",
    "    SubElement(root, 'path').text = './images' +  filename\n",
    "    source = SubElement(root, 'source')\n",
    "    SubElement(source, 'database').text = 'Unknown'\n",
    "\n",
    "    size = SubElement(root, 'size')\n",
    "    SubElement(size, 'width').text = str(width)\n",
    "    SubElement(size, 'height').text = str(height)\n",
    "    SubElement(size, 'depth').text = '3'\n",
    "\n",
    "    SubElement(root, 'segmented').text = '0'\n",
    "\n",
    "    for i in bbox_list:\n",
    "        obj = SubElement(root, 'object')\n",
    "        SubElement(obj, 'name').text = i[0]\n",
    "        SubElement(obj, 'pose').text = 'Unspecified'\n",
    "        SubElement(obj, 'truncated').text = '0'\n",
    "        SubElement(obj, 'difficult').text = '0'\n",
    "\n",
    "        bbox = SubElement(obj, 'bndbox')\n",
    "        SubElement(bbox, 'xmin').text = str(i[1])\n",
    "        SubElement(bbox, 'ymin').text = str(i[2])\n",
    "        SubElement(bbox, 'xmax').text = str(i[3])\n",
    "        SubElement(bbox, 'ymax').text = str(i[4])\n",
    "\n",
    "    indent(root)\n",
    "    tree = ElementTree(root)\n",
    "    tree.write('./'+folder + '/' + filename.split('.')[0] +'.xml')"
   ]
  },
  {
   "cell_type": "code",
   "execution_count": 22,
   "metadata": {
    "ExecuteTime": {
     "end_time": "2021-05-27T03:27:23.632798Z",
     "start_time": "2021-05-27T03:27:23.603799Z"
    }
   },
   "outputs": [
    {
     "data": {
      "text/plain": [
       "['./2/labels/0711_13.xml',\n",
       " './2/labels/0704_05.xml',\n",
       " './2/labels/0704_25.xml',\n",
       " './2/labels/0708_10.xml',\n",
       " './2/labels/0704_06.xml',\n",
       " './2/labels/0708_11.xml',\n",
       " './2/labels/0709_17.xml',\n",
       " './2/labels/0711_14.xml',\n",
       " './2/labels/0704_04.xml',\n",
       " './2/labels/0710_01.xml',\n",
       " './2/labels/0704_10.xml',\n",
       " './2/labels/0709_08.xml',\n",
       " './2/labels/0709_01.xml',\n",
       " './2/labels/0710_28.xml',\n",
       " './2/labels/0709_06.xml',\n",
       " './2/labels/0704_20.xml',\n",
       " './2/labels/0710_06.xml',\n",
       " './2/labels/0704_12(200).xml',\n",
       " './2/labels/0710_11.xml',\n",
       " './2/labels/0708_14.xml',\n",
       " './2/labels/0708_01.xml',\n",
       " './2/labels/0710_12.xml',\n",
       " './2/labels/0710_03.xml',\n",
       " './2/labels/0709_13.xml',\n",
       " './2/labels/0708_17.xml',\n",
       " './2/labels/0710_04.xml',\n",
       " './2/labels/0710_25.xml',\n",
       " './2/labels/0704_02.xml',\n",
       " './2/labels/0708_16.xml',\n",
       " './2/labels/0711_15.xml',\n",
       " './2/labels/0708_12.xml',\n",
       " './2/labels/0708_05.xml',\n",
       " './2/labels/0710_30.xml',\n",
       " './2/labels/0704_13.xml',\n",
       " './2/labels/0708_15.xml',\n",
       " './2/labels/0710_02(1).xml',\n",
       " './2/labels/0704_14.xml',\n",
       " './2/labels/0710_27.xml',\n",
       " './2/labels/0704_28.xml',\n",
       " './2/labels/0708_08.xml',\n",
       " './2/labels/0704_23.xml',\n",
       " './2/labels/0710_14.xml',\n",
       " './2/labels/0709_02.xml',\n",
       " './2/labels/0704_21.xml',\n",
       " './2/labels/0704_12(100).xml',\n",
       " './2/labels/0710_40.xml',\n",
       " './2/labels/0704_26.xml',\n",
       " './2/labels/0710_09.xml',\n",
       " './2/labels/0708_18.xml',\n",
       " './2/labels/0704_18.xml',\n",
       " './2/labels/0704_07.xml',\n",
       " './2/labels/0709_05.xml',\n",
       " './2/labels/0710_26.xml',\n",
       " './2/labels/0709_07.xml',\n",
       " './2/labels/0710_07.xml',\n",
       " './2/labels/0704_19.xml',\n",
       " './2/labels/0709_18.xml',\n",
       " './2/labels/0710_19.xml',\n",
       " './2/labels/0709_04.xml',\n",
       " './2/labels/0711_16.xml',\n",
       " './2/labels/0709_10.xml',\n",
       " './2/labels/0710_10.xml',\n",
       " './2/labels/0704_15.xml',\n",
       " './2/labels/0710_16.xml',\n",
       " './2/labels/0704_03.xml',\n",
       " './2/labels/0710_29.xml',\n",
       " './2/labels/0710_13.xml',\n",
       " './2/labels/0704_27.xml',\n",
       " './2/labels/0704_08.xml',\n",
       " './2/labels/0710_32.xml',\n",
       " './2/labels/0704_29.xml',\n",
       " './2/labels/0710_05.xml',\n",
       " './2/labels/0710_08.xml',\n",
       " './2/labels/0709_16.xml',\n",
       " './2/labels/0709_03.xml',\n",
       " './2/labels/0708_03.xml',\n",
       " './2/labels/0710_20.xml',\n",
       " './2/labels/0704_16.xml',\n",
       " './2/labels/0710_18.xml',\n",
       " './2/labels/0710_17.xml',\n",
       " './2/labels/0704_22.xml',\n",
       " './2/labels/0710_15.xml',\n",
       " './2/labels/0710_02(3).xml',\n",
       " './2/labels/0708_09.xml',\n",
       " './2/labels/0710_22.xml',\n",
       " './2/labels/0708_07.xml',\n",
       " './2/labels/0710_31.xml',\n",
       " './2/labels/0704_30.xml',\n",
       " './2/labels/0708_13.xml',\n",
       " './2/labels/0709_09.xml',\n",
       " './2/labels/0704_09.xml',\n",
       " './2/labels/0708_06.xml',\n",
       " './2/labels/0708_04.xml',\n",
       " './2/labels/0710_23.xml',\n",
       " './2/labels/0708_02.xml',\n",
       " './2/labels/0708_25.xml',\n",
       " './2/labels/0704_17.xml',\n",
       " './2/labels/0710_02(2).xml',\n",
       " './2/labels/0704_11.xml',\n",
       " './2/labels/0704_24.xml']"
      ]
     },
     "execution_count": 22,
     "metadata": {},
     "output_type": "execute_result"
    }
   ],
   "source": [
    "#file_nm = glob.glob('./1/labels/')\n",
    "file_nm = glob.glob('./2/labels/*.xml')\n",
    "file_nm"
   ]
  },
  {
   "cell_type": "code",
   "execution_count": 23,
   "metadata": {
    "ExecuteTime": {
     "end_time": "2021-05-27T03:27:23.632798Z",
     "start_time": "2021-05-27T03:27:23.603799Z"
    }
   },
   "outputs": [],
   "source": [
    "for root_nm in file_nm:  # file_nm is xml_file_list\n",
    "    before_xml = ET.parse(root_nm)\n",
    "    root = before_xml.getroot()\n",
    "    for child in root:\n",
    "        if child.tag == 'image':\n",
    "            file_nm = child.attrib['name']\n",
    "            width = child.attrib['width']\n",
    "            height = child.attrib['height']\n",
    "            sign = 0\n",
    "            bbox_list = []\n",
    "            for i in child:\n",
    "                image_box = []\n",
    "                if (i.attrib['label'] == 'traffic_sign'):\n",
    "                    sign += 1\n",
    "                    image_box.append(i.attrib['label'])\n",
    "                    image_box.append(i.attrib['xtl'])\n",
    "                    image_box.append(i.attrib['ytl'])\n",
    "                    image_box.append(i.attrib['xbr'])\n",
    "                    image_box.append(i.attrib['ybr'])\n",
    "\n",
    "                    bbox_list.append(image_box)\n",
    "            if sign > 0:\n",
    "                write_xml('./traffic_sign', file_nm, width, height, bbox_list)"
   ]
  },
  {
   "cell_type": "code",
   "execution_count": 24,
   "metadata": {},
   "outputs": [
    {
     "name": "stdout",
     "output_type": "stream",
     "text": [
      "Successfully converted xml to csv.\n"
     ]
    }
   ],
   "source": [
    "import os\n",
    "import glob\n",
    "import pandas as pd\n",
    "import xml.etree.ElementTree as ET\n",
    "\n",
    "\n",
    "def xml_to_csv(path):\n",
    "    xml_list = []\n",
    "    for xml_file in glob.glob(path + '/*.xml'):\n",
    "        tree = ET.parse(xml_file)\n",
    "        root = tree.getroot()\n",
    "        for member in root.findall('object'):\n",
    "            value = (root.find('filename').text,\n",
    "                     int(root.find('size')[0].text),\n",
    "                     int(root.find('size')[1].text),\n",
    "                     member[0].text,\n",
    "                     member[4][0].text,\n",
    "                     member[4][1].text,\n",
    "                     member[4][2].text,\n",
    "                     member[4][3].text\n",
    "                     )\n",
    "            xml_list.append(value)\n",
    "    column_name = ['filename', 'width', 'height', 'class', 'xmin', 'ymin', 'xmax', 'ymax']\n",
    "    xml_df = pd.DataFrame(xml_list, columns=column_name)\n",
    "    return xml_df\n",
    "    \n",
    "labels_df = xml_to_csv('./2/traffic_sign/')\n",
    "labels_df.to_csv(('./2/labels.csv'), index=None)\n",
    "print('Successfully converted xml to csv.')"
   ]
  },
  {
   "cell_type": "code",
   "execution_count": 25,
   "metadata": {},
   "outputs": [],
   "source": [
    "# import libraries\n",
    "import os\n",
    "import shutil\n",
    "import csv\n",
    "\n",
    "\n",
    "# csv path\n",
    "csv_path = os.path.join('./2', 'labels.csv')\n",
    "\n",
    "# file root\n",
    "root_path = os.path.join('./2/images')\n",
    "\n",
    "# define the saving path after copying files by making new folder \n",
    "save_path = os.path.join('./2/traffic_images')\n",
    "if not os.path.exists(save_path):\n",
    "    os.mkdir(save_path)\n",
    "#os.makedirs(save_path)\n",
    "\n",
    "df = open(csv_path, 'r')\n",
    "read = csv.reader(df, delimiter= ',')\n",
    "\n",
    "flag = 0\n",
    "for i, row in enumerate(read):\n",
    "    if flag == 0:\n",
    "        flag += 1\n",
    "        pass\n",
    "    else:\n",
    "        type_id = row[3]\n",
    "        dst = os.path.join(save_path, type_id)\n",
    "        if not os.path.exists(dst):\n",
    "            os.makedirs(dst)\n",
    "        shutil.copy(os.path.join(root_path, row[0]), dst)  \n"
   ]
  },
  {
   "cell_type": "code",
   "execution_count": null,
   "metadata": {},
   "outputs": [],
   "source": []
  }
 ],
 "metadata": {
  "kernelspec": {
   "display_name": "Python 3",
   "language": "python",
   "name": "python3"
  },
  "language_info": {
   "codemirror_mode": {
    "name": "ipython",
    "version": 3
   },
   "file_extension": ".py",
   "mimetype": "text/x-python",
   "name": "python",
   "nbconvert_exporter": "python",
   "pygments_lexer": "ipython3",
   "version": "3.8.5"
  },
  "toc": {
   "base_numbering": 1,
   "nav_menu": {},
   "number_sections": true,
   "sideBar": true,
   "skip_h1_title": false,
   "title_cell": "Table of Contents",
   "title_sidebar": "Contents",
   "toc_cell": false,
   "toc_position": {},
   "toc_section_display": true,
   "toc_window_display": false
  },
  "varInspector": {
   "cols": {
    "lenName": 16,
    "lenType": 16,
    "lenVar": 40
   },
   "kernels_config": {
    "python": {
     "delete_cmd_postfix": "",
     "delete_cmd_prefix": "del ",
     "library": "var_list.py",
     "varRefreshCmd": "print(var_dic_list())"
    },
    "r": {
     "delete_cmd_postfix": ") ",
     "delete_cmd_prefix": "rm(",
     "library": "var_list.r",
     "varRefreshCmd": "cat(var_dic_list()) "
    }
   },
   "position": {
    "height": "299px",
    "left": "768px",
    "right": "20px",
    "top": "120px",
    "width": "350px"
   },
   "types_to_exclude": [
    "module",
    "function",
    "builtin_function_or_method",
    "instance",
    "_Feature"
   ],
   "window_display": false
  }
 },
 "nbformat": 4,
 "nbformat_minor": 4
}
