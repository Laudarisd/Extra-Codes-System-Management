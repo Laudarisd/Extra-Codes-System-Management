{
 "cells": [
  {
   "cell_type": "code",
   "execution_count": 1,
   "metadata": {},
   "outputs": [
    {
     "name": "stdout",
     "output_type": "stream",
     "text": [
      "0\n",
      "0\n",
      "0\n",
      "0\n",
      "0\n",
      "0\n",
      "0\n",
      "0\n",
      "1\n",
      "1\n",
      "1\n",
      "1\n",
      "1\n",
      "1\n",
      "1\n",
      "1\n",
      "1\n",
      "1\n",
      "3\n",
      "3\n",
      "4\n",
      "4\n",
      "4\n",
      "4\n",
      "4\n",
      "4\n",
      "4\n",
      "4\n",
      "4\n",
      "4\n",
      "4\n",
      "4\n",
      "5\n",
      "5\n",
      "5\n",
      "5\n",
      "5\n",
      "5\n",
      "5\n",
      "5\n",
      "5\n",
      "5\n",
      "5\n",
      "5\n",
      "5\n",
      "6\n",
      "6\n",
      "6\n",
      "6\n"
     ]
    }
   ],
   "source": [
    "import sys\n",
    "import os\n",
    "import csv\n",
    "from lxml import etree\n",
    "import pandas as pd\n",
    "\n",
    "filename = 'image'\n",
    "csvFiles = pd.read_csv('image.csv', header=0)\n",
    "former_id = 'abc'\n",
    "once = True\n",
    "\n",
    "\n",
    "for csvFile in csvFiles.iterrows():\n",
    "    #print('cnt: ', cnt)\n",
    "    #xmlFile = csvFile[:-4] + '.xml'\n",
    "    image_id = csvFile[1][1][:-4]\n",
    "    print(image_id)\n",
    "        \n",
    "    xmlFile = '{}_{}.xml'.format(filename, image_id)\n",
    "    #xmlFile = '{}.xml'.format(image_id)\n",
    "    \n",
    "    \n",
    "    xmlData = open(xmlFile, 'a')"
   ]
  },
  {
   "cell_type": "code",
   "execution_count": 61,
   "metadata": {},
   "outputs": [
    {
     "data": {
      "text/plain": [
       "'maritime vessels'"
      ]
     },
     "execution_count": 61,
     "metadata": {},
     "output_type": "execute_result"
    }
   ],
   "source": [
    "csvFile[1][3]\n"
   ]
  },
  {
   "cell_type": "code",
   "execution_count": 72,
   "metadata": {},
   "outputs": [
    {
     "data": {
      "text/plain": [
       "['1250.924650543102',\n",
       " '638.5815419630852',\n",
       " '1267.5790066260618',\n",
       " '623.9804819111396',\n",
       " '1326.8026258271984',\n",
       " '691.5325116396872',\n",
       " '1310.1482697442386',\n",
       " '706.1335716916328']"
      ]
     },
     "execution_count": 72,
     "metadata": {},
     "output_type": "execute_result"
    }
   ],
   "source": [
    "coor = csvFile[1][0].split(',')\n",
    "coor\n"
   ]
  },
  {
   "cell_type": "code",
   "execution_count": 81,
   "metadata": {},
   "outputs": [
    {
     "data": {
      "text/plain": [
       "[1251, 639, 1268, 624, 1327, 692, 1311, 707]"
      ]
     },
     "execution_count": 81,
     "metadata": {},
     "output_type": "execute_result"
    }
   ],
   "source": [
    "#[int(round(float(c))) for c in coor]\n",
    "import math\n",
    "\n",
    "[int(math.ceil(float(c))) for c in coor]"
   ]
  },
  {
   "cell_type": "code",
   "execution_count": 101,
   "metadata": {},
   "outputs": [],
   "source": [
    "coordinates = csvFile[1][0].split(',')\n",
    "coor = [str(math.ceil(float(coor))) for coor in coordinates]\n",
    "x_coordinates = csvFile[1][0].split(',')[::2]\n",
    "x_coor = [int(math.ceil(float(x_coor))) for x_coor in x_coordinates]\n",
    "#coor = \n",
    "y_coordinates = csvFile[1][0].split(',')[1::2]\n",
    "y_coor = [int(math.ceil(float(y_coor))) for y_coor in y_coordinates]"
   ]
  },
  {
   "cell_type": "code",
   "execution_count": 102,
   "metadata": {},
   "outputs": [
    {
     "data": {
      "text/plain": [
       "(['1251', '639', '1268', '624', '1327', '692', '1311', '707'],\n",
       " [1251, 1268, 1327, 1311],\n",
       " [639, 624, 692, 707])"
      ]
     },
     "execution_count": 102,
     "metadata": {},
     "output_type": "execute_result"
    }
   ],
   "source": [
    "coor, x_coor, y_coor"
   ]
  },
  {
   "cell_type": "code",
   "execution_count": null,
   "metadata": {},
   "outputs": [],
   "source": []
  }
 ],
 "metadata": {
  "kernelspec": {
   "display_name": "Python 3",
   "language": "python",
   "name": "python3"
  },
  "language_info": {
   "codemirror_mode": {
    "name": "ipython",
    "version": 3
   },
   "file_extension": ".py",
   "mimetype": "text/x-python",
   "name": "python",
   "nbconvert_exporter": "python",
   "pygments_lexer": "ipython3",
   "version": "3.6.9"
  }
 },
 "nbformat": 4,
 "nbformat_minor": 2
}
