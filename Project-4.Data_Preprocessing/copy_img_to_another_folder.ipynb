{
 "cells": [
  {
   "cell_type": "markdown",
   "metadata": {},
   "source": [
    "# copy multiple files(images) from multiple folder to single folder"
   ]
  },
  {
   "cell_type": "code",
   "execution_count": 10,
   "metadata": {},
   "outputs": [],
   "source": [
    "import os, shutil\n",
    "def moveFiles(path, disdir):\n",
    "    dirlist = os.listdir(path)\n",
    "    for i in dirlist:\n",
    "        child = os.path.join(\"%s/%s\" % (path, i))\n",
    "        if os.path.isfile(child):\n",
    "            shutil.copyfile(child, os.path.join(disdir, i))\n",
    "            continue\n",
    "        moveFiles(child, disdir)\n",
    "if __name__ == \"__main__\":\n",
    "    orgdir = \"./images/\"\n",
    "    disdir = \"./mtsd_v2_fully_annotated/images\"\n",
    "    moveFiles(orgdir, disdir)"
   ]
  },
  {
   "cell_type": "markdown",
   "metadata": {},
   "source": [
    "# Copy files from one folder to another folder"
   ]
  },
  {
   "cell_type": "code",
   "execution_count": null,
   "metadata": {},
   "outputs": [],
   "source": [
    "#Copy images in one folder to another folder\n",
    "import os\n",
    "import shutil\n",
    "import cv2\n",
    " \n",
    "def copy_image(image_path,save_path):\n",
    "    for dirName, subDirList, fileList in os.walk(image_path):\n",
    "        for fname in fileList:\n",
    "            file_name = dirName + fname\n",
    "            img = cv2.imread(file_name)\n",
    "            cv2.imwrite(save_path + fname, img)\n",
    " \n",
    "image_path = \"./image/\"\n",
    "save_path = \"./image_save/\"\n",
    "copy_image(image_path,save_path)"
   ]
  },
  {
   "cell_type": "markdown",
   "metadata": {},
   "source": [
    "# Convert multiple json file to single csv"
   ]
  },
  {
   "cell_type": "code",
   "execution_count": 11,
   "metadata": {},
   "outputs": [],
   "source": [
    "import pandas as pd\n",
    "import json"
   ]
  },
  {
   "cell_type": "code",
   "execution_count": null,
   "metadata": {},
   "outputs": [],
   "source": [
    "import os\n",
    "import pandas as pd\n",
    "import sys\n",
    "\n",
    "\n",
    "class MultipleJSONToCSV:\n",
    "    \"\"\"An object that can convert multiple JSON files to a CSV file.\"\"\"\n",
    "    def __init__(self, source_path, destination_path):\n",
    "        \"\"\"\n",
    "        Initialize object's attributes.\n",
    "\n",
    "        :param str source_path: Path to JSON files.\n",
    "        :param str destination_path: Output path.\n",
    "        \"\"\"\n",
    "        self.source_path = source_path\n",
    "        self.destination_path = destination_path\n",
    "\n",
    "    def convert_json_to_csv(self):\n",
    "        \"\"\"Convert multiple JSON files to a CSV file.\"\"\"\n",
    "        list_df = []\n",
    "        for file in os.listdir(self.source_path):\n",
    "            if file.endswith('.json'):\n",
    "                source_file_path = self.source_path + file\n",
    "                df = pd.read_json(source_file_path)\n",
    "                list_df.append(df)\n",
    "        all_df = pd.concat(list_df)\n",
    "        all_df.to_csv(self.destination_path, index=False)\n",
    "        print(\"All JSON files in {} are successfully converted into a CSV \"\n",
    "              \"file named {}\".format(self.source_path, self.destination_path))\n",
    "\n",
    "\n",
    "if __name__ == '__main__':\n",
    "    json_path = sys.argv[1]  # Path to JSON files\n",
    "    output_path = sys.argv[2]  # Output path\n",
    "    converter = MultipleJSONToCSV(json_path, output_path)\n",
    "    converter.convert_json_to_csv()\n"
   ]
  },
  {
   "cell_type": "code",
   "execution_count": 14,
   "metadata": {},
   "outputs": [
    {
     "ename": "SyntaxError",
     "evalue": "invalid syntax (<ipython-input-14-21bffcf4341c>, line 1)",
     "output_type": "error",
     "traceback": [
      "\u001b[0;36m  File \u001b[0;32m\"<ipython-input-14-21bffcf4341c>\"\u001b[0;36m, line \u001b[0;32m1\u001b[0m\n\u001b[0;31m    width\theight\tkey\tlabel\txmin\tymin\txmax\tymax\tname\u001b[0m\n\u001b[0m         \t^\u001b[0m\n\u001b[0;31mSyntaxError\u001b[0m\u001b[0;31m:\u001b[0m invalid syntax\n"
     ]
    }
   ],
   "source": [
    "width\theight\tkey\tlabel\txmin\tymin\txmax\tymax\tname\n"
   ]
  },
  {
   "cell_type": "code",
   "execution_count": 25,
   "metadata": {},
   "outputs": [],
   "source": [
    "import os\n",
    "import json\n",
    "import csv\n",
    "\n",
    "import json\n",
    "from pprint import pprint\n",
    "# we are using pprint for making the output more readable.\n",
    "with open('./annotations/ISIC_0000000') as f:\n",
    "    data = json.load(f)\n",
    "    pprint(data)\n",
    "\n",
    "def get_list_of_json_files():\n",
    "    list_of_files = os.listdir('./annotaions')\n",
    "    return list_of_files"
   ]
  },
  {
   "cell_type": "code",
   "execution_count": 26,
   "metadata": {},
   "outputs": [
    {
     "ename": "NameError",
     "evalue": "name 'list_of_files' is not defined",
     "output_type": "error",
     "traceback": [
      "\u001b[0;31m---------------------------------------------------------------------------\u001b[0m",
      "\u001b[0;31mNameError\u001b[0m                                 Traceback (most recent call last)",
      "\u001b[0;32m<ipython-input-26-23fbfc0cc2b6>\u001b[0m in \u001b[0;36m<module>\u001b[0;34m\u001b[0m\n\u001b[0;32m----> 1\u001b[0;31m \u001b[0mlist_of_files\u001b[0m\u001b[0;34m\u001b[0m\u001b[0;34m\u001b[0m\u001b[0m\n\u001b[0m",
      "\u001b[0;31mNameError\u001b[0m: name 'list_of_files' is not defined"
     ]
    }
   ],
   "source": [
    "list_of_files"
   ]
  },
  {
   "cell_type": "code",
   "execution_count": 23,
   "metadata": {},
   "outputs": [],
   "source": [
    "def create_list_from_json(jsonfile):\n",
    "\n",
    "    with open(jsonfile) as f:\n",
    "        data = json.load(f)\n",
    "\n",
    "    data_list = []  # create an empty list\n",
    "\n",
    "    # append the items to the list in the same order.\n",
    "    data_list.append(data['width'])\n",
    "    data_list.append(data['height'])\n",
    "    data_list.append(data['objects']['key'])\n",
    "    data_list.append(data['objects']['label'])\n",
    "    #data_list.append(data['meta']['acquisition']['image_type']) #here we are reading in the nested JSON\n",
    "    data_list.append(data['objects']['bbox']['xmin'])\n",
    "    data_list.append(data['objects']['bbox']['ymin'])\n",
    "    data_list.append(data['objects']['bbox']['xmax'])\n",
    "    data_list.append(data['objects']['bbox']['ymax'])\n",
    "    \n",
    "    # In few json files, the race was not there so using KeyError exception to add '' at the place\n",
    "    #try:\n",
    "    #    data_list.append(data['meta']['unstructured']['race'])\n",
    "    #except KeyError:\n",
    "    #    data_list.append(\"\")  # will add an empty string in case race is not there.\n",
    "    #data_list.append(data['name'])\n",
    "\n",
    "    return data_list"
   ]
  },
  {
   "cell_type": "code",
   "execution_count": 24,
   "metadata": {},
   "outputs": [],
   "source": [
    "def write_csv():\n",
    "    list_of_files = get_list_of_json_files()\n",
    "    for file in list_of_files:\n",
    "        row = create_list_from_json(f'anntations/{file}')  # create the row to be added to csv for each file (json-file)\n",
    "        with open('output.csv', 'a') as c:\n",
    "            writer = csv.writer(c)\n",
    "            writer.writerow(row)\n",
    "        c.close()"
   ]
  },
  {
   "cell_type": "code",
   "execution_count": null,
   "metadata": {},
   "outputs": [],
   "source": []
  }
 ],
 "metadata": {
  "kernelspec": {
   "display_name": "Python 3",
   "language": "python",
   "name": "python3"
  },
  "language_info": {
   "codemirror_mode": {
    "name": "ipython",
    "version": 3
   },
   "file_extension": ".py",
   "mimetype": "text/x-python",
   "name": "python",
   "nbconvert_exporter": "python",
   "pygments_lexer": "ipython3",
   "version": "3.8.5"
  }
 },
 "nbformat": 4,
 "nbformat_minor": 2
}
