{
 "cells": [
  {
   "cell_type": "code",
   "execution_count": 41,
   "metadata": {},
   "outputs": [],
   "source": [
    "#import\n",
    "import pandas as pd\n",
    "from PIL import Image\n",
    "import ast\n",
    "import os\n",
    "import cv2\n",
    "import csv\n",
    "\n",
    "\n",
    "#file check function\n",
    "def check_folder_exists(path):\n",
    "        if not os.path.exists(path):\n",
    "            try:\n",
    "                os.makedirs(path)\n",
    "                print ('create ' + path)\n",
    "            except OSError as e:\n",
    "                if e.errno != errno.EEXIST:\n",
    "                    raise\n",
    "                    \n",
    "                    \n",
    "#set parameters\n",
    "root = './image/'\n",
    "dst = './cropped/'\n",
    "seed_arr = []\n",
    "\n",
    "file = open('xml_folder.csv', 'r', encoding='utf-8')\n",
    "csv_reader = csv.reader(file)\n",
    "\n",
    "check_folder_exists(dst)\n",
    "\n",
    "\n"
   ]
  },
  {
   "cell_type": "code",
   "execution_count": 42,
   "metadata": {},
   "outputs": [
    {
     "name": "stdout",
     "output_type": "stream",
     "text": [
      "16\n",
      "[['usbcam(2020-02-04-14:34:35).jpg', '1024', '768', 'bongbong', '803', '267', '861', '541'], ['usbcam(2020-02-04-14:34:35).jpg', '1024', '768', 'daily_c', '409', '186', '596', '691'], ['usbcam(2020-02-04-14:34:35).jpg', '1024', '768', 'gal_bae', '909', '268', '931', '488'], ['usbcam(2020-02-04-14:34:35).jpg', '1024', '768', 'gas_hwal', '732', '259', '795', '586'], ['usbcam(2020-02-04-14:34:35).jpg', '1024', '768', 'hongsam', '620', '221', '721', '636'], ['usbcam(2020-02-04-14:34:35).jpg', '1024', '768', 'mango', '935', '276', '962', '483'], ['usbcam(2020-02-04-14:34:35).jpg', '1024', '768', 'peach', '868', '276', '905', '499'], ['usbcam(2020-02-04-14:34:35).jpg', '1024', '768', 'vita', '182', '48', '391', '758'], ['usbcam(2020-02-04-14:35:03).jpg', '1024', '768', 'bongbong', '818', '320', '866', '515'], ['usbcam(2020-02-04-14:35:03).jpg', '1024', '768', 'daily_c', '426', '359', '587', '628'], ['usbcam(2020-02-04-14:35:03).jpg', '1024', '768', 'gal_bae', '912', '318', '932', '472'], ['usbcam(2020-02-04-14:35:03).jpg', '1024', '768', 'gas_hwal', '733', '368', '810', '554'], ['usbcam(2020-02-04-14:35:03).jpg', '1024', '768', 'hongsam', '613', '360', '721', '597'], ['usbcam(2020-02-04-14:35:03).jpg', '1024', '768', 'mango', '935', '287', '956', '455'], ['usbcam(2020-02-04-14:35:03).jpg', '1024', '768', 'peach', '878', '319', '904', '489'], ['usbcam(2020-02-04-14:35:03).jpg', '1024', '768', 'vita', '204', '386', '387', '704']]\n"
     ]
    }
   ],
   "source": [
    "\n",
    "#read csv data\n",
    "for index, line in enumerate(csv_reader):\n",
    "    # pass csv header == index[0]\n",
    "    if index == 0:\n",
    "        continue\n",
    "    seed_arr.append(line)\n",
    "file.close()\n",
    "\n",
    "#sorting data\n",
    "seed_arr.sort()\n",
    "print(str(len(seed_arr)))\n",
    "print(str(seed_arr))         \n",
    "                    \n",
    "                    \n"
   ]
  },
  {
   "cell_type": "code",
   "execution_count": 43,
   "metadata": {},
   "outputs": [
    {
     "name": "stdout",
     "output_type": "stream",
     "text": [
      "save ./cropped/bongbong/0.jpg\n",
      "save ./cropped/daily_c/1.jpg\n",
      "save ./cropped/gal_bae/2.jpg\n",
      "save ./cropped/gas_hwal/3.jpg\n",
      "save ./cropped/hongsam/4.jpg\n",
      "save ./cropped/mango/5.jpg\n",
      "save ./cropped/peach/6.jpg\n",
      "save ./cropped/vita/7.jpg\n",
      "save ./cropped/bongbong/8.jpg\n",
      "save ./cropped/daily_c/9.jpg\n",
      "save ./cropped/gal_bae/10.jpg\n",
      "save ./cropped/gas_hwal/11.jpg\n",
      "save ./cropped/hongsam/12.jpg\n",
      "save ./cropped/mango/13.jpg\n",
      "save ./cropped/peach/14.jpg\n",
      "save ./cropped/vita/15.jpg\n"
     ]
    }
   ],
   "source": [
    "# img read, crop save\n",
    "for index, line in enumerate(seed_arr):\n",
    "    \n",
    "    filename = line[0]\n",
    "    width = line[1]\n",
    "    height = line[2]\n",
    "    class_name = line[3]\n",
    "    xmin = line[4]\n",
    "    ymin = line[5]\n",
    "    xmax = line[6]\n",
    "    ymax = line[7]\n",
    "    #load img path\n",
    "    load_img_path = os.path.join(root, filename)\n",
    "    \n",
    "    #save img path\n",
    "    save_class_path = os.path.join(dst, class_name)\n",
    "    check_folder_exists(save_class_path)\n",
    "    save_img_path = os.path.join(save_class_path, str(index) +\".jpg\")\n",
    "    \n",
    "    img = Image.open(load_img_path)\n",
    "    crop_img = img.crop((int(xmin),int(ymin),int(xmax),int(ymax)+50))\n",
    "    newsize = (224, 224) \n",
    "    im1 = crop_img.resize(newsize) \n",
    "    im1.save(save_img_path, 'JPEG')\n",
    "    print('save ' + save_img_path)\n",
    "file.close() \n",
    "    \n",
    "    \n",
    "  "
   ]
  },
  {
   "cell_type": "code",
   "execution_count": null,
   "metadata": {},
   "outputs": [],
   "source": [
    "  "
   ]
  },
  {
   "cell_type": "code",
   "execution_count": null,
   "metadata": {},
   "outputs": [],
   "source": []
  }
 ],
 "metadata": {
  "kernelspec": {
   "display_name": "Python 3",
   "language": "python",
   "name": "python3"
  },
  "language_info": {
   "codemirror_mode": {
    "name": "ipython",
    "version": 3
   },
   "file_extension": ".py",
   "mimetype": "text/x-python",
   "name": "python",
   "nbconvert_exporter": "python",
   "pygments_lexer": "ipython3",
   "version": "3.6.10"
  }
 },
 "nbformat": 4,
 "nbformat_minor": 2
}
