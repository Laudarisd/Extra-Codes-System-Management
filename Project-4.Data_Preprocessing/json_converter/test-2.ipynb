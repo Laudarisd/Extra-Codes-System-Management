{
 "cells": [
  {
   "cell_type": "code",
   "execution_count": 35,
   "metadata": {},
   "outputs": [
    {
     "name": "stdout",
     "output_type": "stream",
     "text": [
      "['.DS_Store', 'data copy.csv', 'data.csv', 'energy_dataset.csv', 'sample.json', 'test copy.csv']\n"
     ]
    },
    {
     "data": {
      "text/html": [
       "<div>\n",
       "<style scoped>\n",
       "    .dataframe tbody tr th:only-of-type {\n",
       "        vertical-align: middle;\n",
       "    }\n",
       "\n",
       "    .dataframe tbody tr th {\n",
       "        vertical-align: top;\n",
       "    }\n",
       "\n",
       "    .dataframe thead th {\n",
       "        text-align: right;\n",
       "    }\n",
       "</style>\n",
       "<table border=\"1\" class=\"dataframe\">\n",
       "  <thead>\n",
       "    <tr style=\"text-align: right;\">\n",
       "      <th></th>\n",
       "      <th>bms_pcs_0_acChargeDayTotal</th>\n",
       "      <th>bms_pcs_0_acChargeTotal</th>\n",
       "      <th>bms_pcs_0_acDischargeDayTotal</th>\n",
       "      <th>bms_pcs_0_acDischargeTotal</th>\n",
       "      <th>bms_pcs_0_updateTime</th>\n",
       "    </tr>\n",
       "  </thead>\n",
       "  <tbody>\n",
       "    <tr>\n",
       "      <th>0</th>\n",
       "      <td>0</td>\n",
       "      <td>201422</td>\n",
       "      <td>0</td>\n",
       "      <td>188280</td>\n",
       "      <td>2021-11-01 00:01:03</td>\n",
       "    </tr>\n",
       "    <tr>\n",
       "      <th>1</th>\n",
       "      <td>0</td>\n",
       "      <td>201422</td>\n",
       "      <td>0</td>\n",
       "      <td>188280</td>\n",
       "      <td>2021-11-01 00:02:03</td>\n",
       "    </tr>\n",
       "    <tr>\n",
       "      <th>2</th>\n",
       "      <td>0</td>\n",
       "      <td>201422</td>\n",
       "      <td>0</td>\n",
       "      <td>188280</td>\n",
       "      <td>2021-11-01 00:03:03</td>\n",
       "    </tr>\n",
       "    <tr>\n",
       "      <th>3</th>\n",
       "      <td>0</td>\n",
       "      <td>201422</td>\n",
       "      <td>0</td>\n",
       "      <td>188280</td>\n",
       "      <td>2021-11-01 00:04:03</td>\n",
       "    </tr>\n",
       "    <tr>\n",
       "      <th>4</th>\n",
       "      <td>0</td>\n",
       "      <td>201422</td>\n",
       "      <td>0</td>\n",
       "      <td>188280</td>\n",
       "      <td>2021-11-01 00:05:03</td>\n",
       "    </tr>\n",
       "  </tbody>\n",
       "</table>\n",
       "</div>"
      ],
      "text/plain": [
       "   bms_pcs_0_acChargeDayTotal  bms_pcs_0_acChargeTotal  \\\n",
       "0                           0                   201422   \n",
       "1                           0                   201422   \n",
       "2                           0                   201422   \n",
       "3                           0                   201422   \n",
       "4                           0                   201422   \n",
       "\n",
       "   bms_pcs_0_acDischargeDayTotal  bms_pcs_0_acDischargeTotal  \\\n",
       "0                              0                      188280   \n",
       "1                              0                      188280   \n",
       "2                              0                      188280   \n",
       "3                              0                      188280   \n",
       "4                              0                      188280   \n",
       "\n",
       "  bms_pcs_0_updateTime  \n",
       "0  2021-11-01 00:01:03  \n",
       "1  2021-11-01 00:02:03  \n",
       "2  2021-11-01 00:03:03  \n",
       "3  2021-11-01 00:04:03  \n",
       "4  2021-11-01 00:05:03  "
      ]
     },
     "execution_count": 35,
     "metadata": {},
     "output_type": "execute_result"
    }
   ],
   "source": [
    "#https://www.kaggle.com/msripooja/hourly-energy-consumption-time-series-rnn-lstm\n",
    "\n",
    "\n",
    "import os\n",
    "import numpy as np\n",
    "import pandas as pd\n",
    "import tensorflow as tf\n",
    "import matplotlib.pyplot as plt \n",
    "from sklearn.metrics import r2_score\n",
    "from tensorflow.keras.layers import Dense,Dropout,SimpleRNN,LSTM\n",
    "from tensorflow.keras.models import Sequential\n",
    "#check all the files in the input dataset\n",
    "print(os.listdir(\"./data/\"))\n",
    "\n",
    "fpath = \"./data/data.csv\"\n",
    "df = pd.read_csv(fpath)\n",
    "df.head()\n",
    "\n"
   ]
  },
  {
   "cell_type": "code",
   "execution_count": 36,
   "metadata": {},
   "outputs": [
    {
     "data": {
      "text/html": [
       "<div>\n",
       "<style scoped>\n",
       "    .dataframe tbody tr th:only-of-type {\n",
       "        vertical-align: middle;\n",
       "    }\n",
       "\n",
       "    .dataframe tbody tr th {\n",
       "        vertical-align: top;\n",
       "    }\n",
       "\n",
       "    .dataframe thead th {\n",
       "        text-align: right;\n",
       "    }\n",
       "</style>\n",
       "<table border=\"1\" class=\"dataframe\">\n",
       "  <thead>\n",
       "    <tr style=\"text-align: right;\">\n",
       "      <th></th>\n",
       "      <th>bms_pcs_0_acChargeDayTotal</th>\n",
       "      <th>bms_pcs_0_acChargeTotal</th>\n",
       "      <th>bms_pcs_0_acDischargeDayTotal</th>\n",
       "      <th>bms_pcs_0_acDischargeTotal</th>\n",
       "    </tr>\n",
       "    <tr>\n",
       "      <th>bms_pcs_0_updateTime</th>\n",
       "      <th></th>\n",
       "      <th></th>\n",
       "      <th></th>\n",
       "      <th></th>\n",
       "    </tr>\n",
       "  </thead>\n",
       "  <tbody>\n",
       "    <tr>\n",
       "      <th>2021-11-01 00:01:03</th>\n",
       "      <td>0</td>\n",
       "      <td>201422</td>\n",
       "      <td>0</td>\n",
       "      <td>188280</td>\n",
       "    </tr>\n",
       "    <tr>\n",
       "      <th>2021-11-01 00:02:03</th>\n",
       "      <td>0</td>\n",
       "      <td>201422</td>\n",
       "      <td>0</td>\n",
       "      <td>188280</td>\n",
       "    </tr>\n",
       "    <tr>\n",
       "      <th>2021-11-01 00:03:03</th>\n",
       "      <td>0</td>\n",
       "      <td>201422</td>\n",
       "      <td>0</td>\n",
       "      <td>188280</td>\n",
       "    </tr>\n",
       "    <tr>\n",
       "      <th>2021-11-01 00:04:03</th>\n",
       "      <td>0</td>\n",
       "      <td>201422</td>\n",
       "      <td>0</td>\n",
       "      <td>188280</td>\n",
       "    </tr>\n",
       "    <tr>\n",
       "      <th>2021-11-01 00:05:03</th>\n",
       "      <td>0</td>\n",
       "      <td>201422</td>\n",
       "      <td>0</td>\n",
       "      <td>188280</td>\n",
       "    </tr>\n",
       "  </tbody>\n",
       "</table>\n",
       "</div>"
      ],
      "text/plain": [
       "                      bms_pcs_0_acChargeDayTotal  bms_pcs_0_acChargeTotal  \\\n",
       "bms_pcs_0_updateTime                                                        \n",
       "2021-11-01 00:01:03                            0                   201422   \n",
       "2021-11-01 00:02:03                            0                   201422   \n",
       "2021-11-01 00:03:03                            0                   201422   \n",
       "2021-11-01 00:04:03                            0                   201422   \n",
       "2021-11-01 00:05:03                            0                   201422   \n",
       "\n",
       "                      bms_pcs_0_acDischargeDayTotal  \\\n",
       "bms_pcs_0_updateTime                                  \n",
       "2021-11-01 00:01:03                               0   \n",
       "2021-11-01 00:02:03                               0   \n",
       "2021-11-01 00:03:03                               0   \n",
       "2021-11-01 00:04:03                               0   \n",
       "2021-11-01 00:05:03                               0   \n",
       "\n",
       "                      bms_pcs_0_acDischargeTotal  \n",
       "bms_pcs_0_updateTime                              \n",
       "2021-11-01 00:01:03                       188280  \n",
       "2021-11-01 00:02:03                       188280  \n",
       "2021-11-01 00:03:03                       188280  \n",
       "2021-11-01 00:04:03                       188280  \n",
       "2021-11-01 00:05:03                       188280  "
      ]
     },
     "execution_count": 36,
     "metadata": {},
     "output_type": "execute_result"
    }
   ],
   "source": [
    "#Let's use datetime(2021-11-01 00:00:00,...) as index instead of numbers(0,1,...)\n",
    "#This will be helpful for further data analysis as we are dealing with time series data\n",
    "df = pd.read_csv(fpath, index_col=\"bms_pcs_0_updateTime\", parse_dates=[\"bms_pcs_0_updateTime\"])\n",
    "df.head()"
   ]
  },
  {
   "cell_type": "code",
   "execution_count": 42,
   "metadata": {},
   "outputs": [
    {
     "data": {
      "text/plain": [
       "<AxesSubplot:xlabel='bms_pcs_0_updateTime'>"
      ]
     },
     "execution_count": 42,
     "metadata": {},
     "output_type": "execute_result"
    },
    {
     "data": {
      "image/png": "[encoded data removed]",
      "text/plain": [
       "<Figure size 1152x216 with 1 Axes>"
      ]
     },
     "metadata": {
      "needs_background": "light"
     },
     "output_type": "display_data"
    }
   ],
   "source": [
    "#check missing vlues\n",
    "#df.isnull().sum()\n",
    "\n",
    "#plot\n",
    "df.plot(figsize=(16,3), legend=True)\n",
    "#plt.plt(\"Hourly power consumtion\")\n",
    "#plt.show()"
   ]
  },
  {
   "cell_type": "code",
   "execution_count": null,
   "metadata": {},
   "outputs": [],
   "source": []
  },
  {
   "cell_type": "code",
   "execution_count": 40,
   "metadata": {},
   "outputs": [
    {
     "data": {
      "text/plain": [
       "'3.5.0'"
      ]
     },
     "execution_count": 40,
     "metadata": {},
     "output_type": "execute_result"
    }
   ],
   "source": [
    "import matplotlib\n",
    "matplotlib.__version__"
   ]
  },
  {
   "cell_type": "code",
   "execution_count": null,
   "metadata": {},
   "outputs": [],
   "source": []
  }
 ],
 "metadata": {
  "interpreter": {
   "hash": "aee8b7b246df8f9039afb4144a1f6fd8d2ca17a180786b69acc140d282b71a49"
  },
  "kernelspec": {
   "display_name": "Python 3.9.8 64-bit",
   "name": "python3"
  },
  "language_info": {
   "codemirror_mode": {
    "name": "ipython",
    "version": 3
   },
   "file_extension": ".py",
   "mimetype": "text/x-python",
   "name": "python",
   "nbconvert_exporter": "python",
   "pygments_lexer": "ipython3",
   "version": "3.9.8"
  },
  "orig_nbformat": 4
 },
 "nbformat": 4,
 "nbformat_minor": 2
}
