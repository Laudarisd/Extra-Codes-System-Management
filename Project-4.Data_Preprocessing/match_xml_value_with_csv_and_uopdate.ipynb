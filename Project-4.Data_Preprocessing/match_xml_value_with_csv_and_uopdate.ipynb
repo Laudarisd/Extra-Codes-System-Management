{
 "cells": [
  {
   "cell_type": "code",
   "execution_count": 6,
   "metadata": {
    "scrolled": true
   },
   "outputs": [
    {
     "ename": "ValueError",
     "evalue": "too many values to unpack (expected 2)",
     "output_type": "error",
     "traceback": [
      "\u001b[0;31m---------------------------------------------------------------------------\u001b[0m",
      "\u001b[0;31mValueError\u001b[0m                                Traceback (most recent call last)",
      "\u001b[0;32m<ipython-input-6-2ca3972f7ae5>\u001b[0m in \u001b[0;36m<module>\u001b[0;34m\u001b[0m\n\u001b[1;32m     35\u001b[0m     \u001b[0;32mfor\u001b[0m \u001b[0mxml_file\u001b[0m \u001b[0;32min\u001b[0m \u001b[0mglob\u001b[0m\u001b[0;34m.\u001b[0m\u001b[0mglob\u001b[0m\u001b[0;34m(\u001b[0m\u001b[0;34m'./xmls/*.xml'\u001b[0m\u001b[0;34m)\u001b[0m\u001b[0;34m:\u001b[0m\u001b[0;34m\u001b[0m\u001b[0;34m\u001b[0m\u001b[0m\n\u001b[1;32m     36\u001b[0m         \u001b[0;32mif\u001b[0m \u001b[0mexists\u001b[0m\u001b[0;34m(\u001b[0m\u001b[0mxml_file\u001b[0m\u001b[0;34m)\u001b[0m\u001b[0;34m:\u001b[0m\u001b[0;34m\u001b[0m\u001b[0;34m\u001b[0m\u001b[0m\n\u001b[0;32m---> 37\u001b[0;31m             \u001b[0mupdate_xml\u001b[0m\u001b[0;34m(\u001b[0m\u001b[0mpath\u001b[0m\u001b[0;34m=\u001b[0m\u001b[0mxml_file\u001b[0m\u001b[0;34m)\u001b[0m\u001b[0;34m\u001b[0m\u001b[0;34m\u001b[0m\u001b[0m\n\u001b[0m",
      "\u001b[0;32m<ipython-input-6-2ca3972f7ae5>\u001b[0m in \u001b[0;36mupdate_xml\u001b[0;34m(path)\u001b[0m\n\u001b[1;32m     14\u001b[0m                 \u001b[0;32mcontinue\u001b[0m\u001b[0;34m\u001b[0m\u001b[0;34m\u001b[0m\u001b[0m\n\u001b[1;32m     15\u001b[0m \u001b[0;34m\u001b[0m\u001b[0m\n\u001b[0;32m---> 16\u001b[0;31m             \u001b[0moriginal\u001b[0m\u001b[0;34m,\u001b[0m \u001b[0mchange_to\u001b[0m \u001b[0;34m=\u001b[0m \u001b[0mrow\u001b[0m\u001b[0;34m\u001b[0m\u001b[0;34m\u001b[0m\u001b[0m\n\u001b[0m\u001b[1;32m     17\u001b[0m \u001b[0;34m\u001b[0m\u001b[0m\n\u001b[1;32m     18\u001b[0m             \u001b[0mfind_clas\u001b[0m \u001b[0;34m=\u001b[0m \u001b[0mtree\u001b[0m\u001b[0;34m.\u001b[0m\u001b[0mxpath\u001b[0m\u001b[0;34m(\u001b[0m\u001b[0;34mf\".//name[text()='{original}']\"\u001b[0m\u001b[0;34m)\u001b[0m\u001b[0;34m\u001b[0m\u001b[0;34m\u001b[0m\u001b[0m\n",
      "\u001b[0;31mValueError\u001b[0m: too many values to unpack (expected 2)"
     ]
    }
   ],
   "source": [
    "#csv columns : original , change_to\n",
    "# matching table file: table.csv\n",
    "#update xmls root: ./xmls/*.xml\n",
    "\n",
    "\n",
    "\n",
    "import lxml.html   # check https://pypi.org/project/lxml/\n",
    "from csv import reader\n",
    "from os.path import exists\n",
    "import glob\n",
    "\n",
    "\n",
    "def update_xml(path: str) -> None:\n",
    "    with open('./table.csv', 'r') as convertions, open(path, 'r') as annotation:  # noqa: E501\n",
    "        tree = lxml.html.fromstring(annotation.read())\n",
    "        csv_reader = reader(convertions)\n",
    "\n",
    "        for idx, row in enumerate(csv_reader, start=1):\n",
    "            if idx == 1:\n",
    "                continue\n",
    "\n",
    "            original, change_to = row\n",
    "\n",
    "            find_clas = tree.xpath(f\".//name[text()='{original}']\")\n",
    "\n",
    "            for sub_class in find_clas:\n",
    "                sub_class.text = change_to\n",
    "\n",
    "                print(f'Changed class {original} to {change_to} in {path}')\n",
    "\n",
    "    with open(path, 'wb') as annotation:\n",
    "        new_content = lxml.html.tostring(tree)\n",
    "\n",
    "        if new_content.strip():\n",
    "            annotation.write(new_content)\n",
    "\n",
    "    print(f'Processing on {path} done')\n",
    "\n",
    "\n",
    "if __name__ == '__main__':\n",
    "    for xml_file in glob.glob('./xmls/*.xml'):\n",
    "        if exists(xml_file):\n",
    "            update_xml(path=xml_file)\n"
   ]
  },
  {
   "cell_type": "code",
   "execution_count": null,
   "metadata": {},
   "outputs": [],
   "source": []
  }
 ],
 "metadata": {
  "kernelspec": {
   "display_name": "Python 3",
   "language": "python",
   "name": "python3"
  },
  "language_info": {
   "codemirror_mode": {
    "name": "ipython",
    "version": 3
   },
   "file_extension": ".py",
   "mimetype": "text/x-python",
   "name": "python",
   "nbconvert_exporter": "python",
   "pygments_lexer": "ipython3",
   "version": "3.8.10"
  }
 },
 "nbformat": 4,
 "nbformat_minor": 2
}
