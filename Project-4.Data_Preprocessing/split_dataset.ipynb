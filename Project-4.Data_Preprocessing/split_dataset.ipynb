{
 "cells": [
  {
   "cell_type": "code",
   "execution_count": 38,
   "metadata": {},
   "outputs": [],
   "source": [
    "import random\n",
    "import os\n",
    "import shutil\n",
    "\n",
    "cnt = 200\n",
    "\n",
    "image_path = './images'\n",
    "label_path = './labels'\n",
    "\n",
    "comb_list = sorted(os.listdir(image_path))\n",
    "label_list = sorted(os.listdir(label_path))\n",
    "\n",
    "random_list = random.sample(comb_list, cnt)\n",
    "#print random_list\n",
    "#random_label_list = random.sample(label_list, cnt)\n",
    "random_path = './test_images'\n",
    "if not os.path.exists(random_path):\n",
    "    os.makedirs(random_path)\n",
    "l_random_path = './test_labels'\n",
    "if not os.path.exists(l_random_path):\n",
    "    os.makedirs(l_random_path)\n",
    "alabel_list = []\n",
    "\n"
   ]
  },
  {
   "cell_type": "code",
   "execution_count": 42,
   "metadata": {},
   "outputs": [],
   "source": [
    "for i in random_list:\n",
    "    i_list = str(i).split('.')[0]\n",
    "    #print (i_list) #print images name without extension\n",
    "\n",
    "    label = i_list+'.xml'\n",
    "    #print (label) # print xml list\n",
    "    alabel_list.append(label)\n",
    "    #second_list = sorted(os.listdir(label))\n",
    "    #print second_list\n",
    "\n",
    "    #print os.path.join(random_path, i)\n",
    "\n",
    "    image_path = os.path.join(random_path, i)\n",
    "    random_label_path = os.path.join(random_path, label)\n",
    "    #print random_label_path\n",
    "    #print image_path\n",
    "    #print random_label_path\n",
    "\n",
    "    #shutil.copy(image_path, image_path)\n",
    "\n",
    "#print (alabel_list) #print label name\n",
    "#print(random_list)\n"
   ]
  },
  {
   "cell_type": "code",
   "execution_count": null,
   "metadata": {},
   "outputs": [],
   "source": [
    "def random_pick():\n",
    "    for j in range(0, len(random_list)):\n",
    "        comb_full_path = os.path.join(image_path, random_list[j])\n",
    "        move_full_path = os.path.join(random_path, random_list[j])\n",
    "\n",
    "        l_comb_full_path = os.path.join(label_path, alabel_list[j])\n",
    "        l_move_full_path = os.path.join(l_random_path, alabel_list[j])\n",
    "\n",
    "        shutil.move(comb_full_path, move_full_path)\n",
    "        shutil.move(l_comb_full_path, l_move_full_path)\n",
    "\n",
    "random_pick()"
   ]
  },
  {
   "cell_type": "code",
   "execution_count": null,
   "metadata": {},
   "outputs": [],
   "source": []
  }
 ],
 "metadata": {
  "kernelspec": {
   "display_name": "Python 3",
   "language": "python",
   "name": "python3"
  },
  "language_info": {
   "codemirror_mode": {
    "name": "ipython",
    "version": 3
   },
   "file_extension": ".py",
   "mimetype": "text/x-python",
   "name": "python",
   "nbconvert_exporter": "python",
   "pygments_lexer": "ipython3",
   "version": "3.8.5"
  }
 },
 "nbformat": 4,
 "nbformat_minor": 2
}
